{
 "cells": [
  {
   "cell_type": "markdown",
   "metadata": {},
   "source": [
    "# Titanic: Machine Learning from Disaster\n",
    "# *using logistic regression\n",
    "\n",
    "## Goals/Description of competition:\n",
    "\n",
    "### tl;dr: Exercise in binary classification. Given training data, train a model to predict survived or not. Using this model, predict outcomes for test data set and submit to competition. Note: we are not limited to the features given, i.e. can create new ones.\n",
    "\n",
    "### Also note: data is not very nice :( \n",
    "\n",
    "The sinking of the RMS Titanic is one of the most infamous shipwrecks in history.  On April 15, 1912, during her maiden voyage, the Titanic sank after colliding with an iceberg, killing 1502 out of 2224 passengers and crew. This sensational tragedy shocked the international community and led to better safety regulations for ships.\n",
    "\n",
    "One of the reasons that the shipwreck led to such loss of life was that there were not enough lifeboats for the passengers and crew. Although there was some element of luck involved in surviving the sinking, some groups of people were more likely to survive than others, such as women, children, and the upper-class.\n",
    "\n",
    "In this challenge, we ask you to complete the analysis of what sorts of people were likely to survive. In particular, we ask you to apply the tools of machine learning to predict which passengers survived the tragedy.\n",
    "\n",
    "## Analysis Procedure\n",
    "\n",
    " - Collect training and test data\n",
    " - Explore data (quality, patterns, stats, viz)\n",
    " - Data cleaning/Feature engineering\n",
    " - Select, train, and fine-tune model \n",
    " - Evaluate model on test data and submit"
   ]
  },
  {
   "cell_type": "markdown",
   "metadata": {},
   "source": [
    "## Imports"
   ]
  },
  {
   "cell_type": "code",
   "execution_count": 1,
   "metadata": {},
   "outputs": [],
   "source": [
    "# data analysis and data handling\n",
    "import pandas as pd\n",
    "import numpy as np\n",
    "\n",
    "# data visualization\n",
    "import seaborn as sns\n",
    "import matplotlib.pyplot as plt\n",
    "%matplotlib inline"
   ]
  },
  {
   "cell_type": "markdown",
   "metadata": {},
   "source": [
    "***\n",
    "# 1. Collect training and test data"
   ]
  },
  {
   "cell_type": "markdown",
   "metadata": {},
   "source": [
    "## Read in data"
   ]
  },
  {
   "cell_type": "code",
   "execution_count": 2,
   "metadata": {},
   "outputs": [],
   "source": [
    "train_df = pd.read_csv('data/train.csv')\n",
    "test_df = pd.read_csv('data/test.csv')"
   ]
  },
  {
   "cell_type": "markdown",
   "metadata": {},
   "source": [
    "## What are dimensions of the dataframes?"
   ]
  },
  {
   "cell_type": "code",
   "execution_count": 3,
   "metadata": {},
   "outputs": [
    {
     "name": "stdout",
     "output_type": "stream",
     "text": [
      "Shape of training set = (891, 12)\n",
      "________________________________________\n",
      "Shape of testing set  = (418, 11)\n"
     ]
    }
   ],
   "source": [
    "print('Shape of training set = {}'.format(train_df.shape))\n",
    "print('_'*40)\n",
    "print('Shape of testing set  = {}'.format(test_df.shape))"
   ]
  },
  {
   "cell_type": "markdown",
   "metadata": {},
   "source": [
    "## Print first few rows of the dataframes"
   ]
  },
  {
   "cell_type": "code",
   "execution_count": 4,
   "metadata": {},
   "outputs": [
    {
     "data": {
      "text/html": [
       "<div>\n",
       "<style scoped>\n",
       "    .dataframe tbody tr th:only-of-type {\n",
       "        vertical-align: middle;\n",
       "    }\n",
       "\n",
       "    .dataframe tbody tr th {\n",
       "        vertical-align: top;\n",
       "    }\n",
       "\n",
       "    .dataframe thead th {\n",
       "        text-align: right;\n",
       "    }\n",
       "</style>\n",
       "<table border=\"1\" class=\"dataframe\">\n",
       "  <thead>\n",
       "    <tr style=\"text-align: right;\">\n",
       "      <th></th>\n",
       "      <th>PassengerId</th>\n",
       "      <th>Survived</th>\n",
       "      <th>Pclass</th>\n",
       "      <th>Name</th>\n",
       "      <th>Sex</th>\n",
       "      <th>Age</th>\n",
       "      <th>SibSp</th>\n",
       "      <th>Parch</th>\n",
       "      <th>Ticket</th>\n",
       "      <th>Fare</th>\n",
       "      <th>Cabin</th>\n",
       "      <th>Embarked</th>\n",
       "    </tr>\n",
       "  </thead>\n",
       "  <tbody>\n",
       "    <tr>\n",
       "      <th>0</th>\n",
       "      <td>1</td>\n",
       "      <td>0</td>\n",
       "      <td>3</td>\n",
       "      <td>Braund, Mr. Owen Harris</td>\n",
       "      <td>male</td>\n",
       "      <td>22.0</td>\n",
       "      <td>1</td>\n",
       "      <td>0</td>\n",
       "      <td>A/5 21171</td>\n",
       "      <td>7.2500</td>\n",
       "      <td>NaN</td>\n",
       "      <td>S</td>\n",
       "    </tr>\n",
       "    <tr>\n",
       "      <th>1</th>\n",
       "      <td>2</td>\n",
       "      <td>1</td>\n",
       "      <td>1</td>\n",
       "      <td>Cumings, Mrs. John Bradley (Florence Briggs Th...</td>\n",
       "      <td>female</td>\n",
       "      <td>38.0</td>\n",
       "      <td>1</td>\n",
       "      <td>0</td>\n",
       "      <td>PC 17599</td>\n",
       "      <td>71.2833</td>\n",
       "      <td>C85</td>\n",
       "      <td>C</td>\n",
       "    </tr>\n",
       "    <tr>\n",
       "      <th>2</th>\n",
       "      <td>3</td>\n",
       "      <td>1</td>\n",
       "      <td>3</td>\n",
       "      <td>Heikkinen, Miss. Laina</td>\n",
       "      <td>female</td>\n",
       "      <td>26.0</td>\n",
       "      <td>0</td>\n",
       "      <td>0</td>\n",
       "      <td>STON/O2. 3101282</td>\n",
       "      <td>7.9250</td>\n",
       "      <td>NaN</td>\n",
       "      <td>S</td>\n",
       "    </tr>\n",
       "    <tr>\n",
       "      <th>3</th>\n",
       "      <td>4</td>\n",
       "      <td>1</td>\n",
       "      <td>1</td>\n",
       "      <td>Futrelle, Mrs. Jacques Heath (Lily May Peel)</td>\n",
       "      <td>female</td>\n",
       "      <td>35.0</td>\n",
       "      <td>1</td>\n",
       "      <td>0</td>\n",
       "      <td>113803</td>\n",
       "      <td>53.1000</td>\n",
       "      <td>C123</td>\n",
       "      <td>S</td>\n",
       "    </tr>\n",
       "    <tr>\n",
       "      <th>4</th>\n",
       "      <td>5</td>\n",
       "      <td>0</td>\n",
       "      <td>3</td>\n",
       "      <td>Allen, Mr. William Henry</td>\n",
       "      <td>male</td>\n",
       "      <td>35.0</td>\n",
       "      <td>0</td>\n",
       "      <td>0</td>\n",
       "      <td>373450</td>\n",
       "      <td>8.0500</td>\n",
       "      <td>NaN</td>\n",
       "      <td>S</td>\n",
       "    </tr>\n",
       "  </tbody>\n",
       "</table>\n",
       "</div>"
      ],
      "text/plain": [
       "   PassengerId  Survived  Pclass  \\\n",
       "0            1         0       3   \n",
       "1            2         1       1   \n",
       "2            3         1       3   \n",
       "3            4         1       1   \n",
       "4            5         0       3   \n",
       "\n",
       "                                                Name     Sex   Age  SibSp  \\\n",
       "0                            Braund, Mr. Owen Harris    male  22.0      1   \n",
       "1  Cumings, Mrs. John Bradley (Florence Briggs Th...  female  38.0      1   \n",
       "2                             Heikkinen, Miss. Laina  female  26.0      0   \n",
       "3       Futrelle, Mrs. Jacques Heath (Lily May Peel)  female  35.0      1   \n",
       "4                           Allen, Mr. William Henry    male  35.0      0   \n",
       "\n",
       "   Parch            Ticket     Fare Cabin Embarked  \n",
       "0      0         A/5 21171   7.2500   NaN        S  \n",
       "1      0          PC 17599  71.2833   C85        C  \n",
       "2      0  STON/O2. 3101282   7.9250   NaN        S  \n",
       "3      0            113803  53.1000  C123        S  \n",
       "4      0            373450   8.0500   NaN        S  "
      ]
     },
     "execution_count": 4,
     "metadata": {},
     "output_type": "execute_result"
    }
   ],
   "source": [
    "train_df.head(5)"
   ]
  },
  {
   "cell_type": "code",
   "execution_count": 5,
   "metadata": {},
   "outputs": [
    {
     "data": {
      "text/html": [
       "<div>\n",
       "<style scoped>\n",
       "    .dataframe tbody tr th:only-of-type {\n",
       "        vertical-align: middle;\n",
       "    }\n",
       "\n",
       "    .dataframe tbody tr th {\n",
       "        vertical-align: top;\n",
       "    }\n",
       "\n",
       "    .dataframe thead th {\n",
       "        text-align: right;\n",
       "    }\n",
       "</style>\n",
       "<table border=\"1\" class=\"dataframe\">\n",
       "  <thead>\n",
       "    <tr style=\"text-align: right;\">\n",
       "      <th></th>\n",
       "      <th>PassengerId</th>\n",
       "      <th>Pclass</th>\n",
       "      <th>Name</th>\n",
       "      <th>Sex</th>\n",
       "      <th>Age</th>\n",
       "      <th>SibSp</th>\n",
       "      <th>Parch</th>\n",
       "      <th>Ticket</th>\n",
       "      <th>Fare</th>\n",
       "      <th>Cabin</th>\n",
       "      <th>Embarked</th>\n",
       "    </tr>\n",
       "  </thead>\n",
       "  <tbody>\n",
       "    <tr>\n",
       "      <th>0</th>\n",
       "      <td>892</td>\n",
       "      <td>3</td>\n",
       "      <td>Kelly, Mr. James</td>\n",
       "      <td>male</td>\n",
       "      <td>34.5</td>\n",
       "      <td>0</td>\n",
       "      <td>0</td>\n",
       "      <td>330911</td>\n",
       "      <td>7.8292</td>\n",
       "      <td>NaN</td>\n",
       "      <td>Q</td>\n",
       "    </tr>\n",
       "    <tr>\n",
       "      <th>1</th>\n",
       "      <td>893</td>\n",
       "      <td>3</td>\n",
       "      <td>Wilkes, Mrs. James (Ellen Needs)</td>\n",
       "      <td>female</td>\n",
       "      <td>47.0</td>\n",
       "      <td>1</td>\n",
       "      <td>0</td>\n",
       "      <td>363272</td>\n",
       "      <td>7.0000</td>\n",
       "      <td>NaN</td>\n",
       "      <td>S</td>\n",
       "    </tr>\n",
       "    <tr>\n",
       "      <th>2</th>\n",
       "      <td>894</td>\n",
       "      <td>2</td>\n",
       "      <td>Myles, Mr. Thomas Francis</td>\n",
       "      <td>male</td>\n",
       "      <td>62.0</td>\n",
       "      <td>0</td>\n",
       "      <td>0</td>\n",
       "      <td>240276</td>\n",
       "      <td>9.6875</td>\n",
       "      <td>NaN</td>\n",
       "      <td>Q</td>\n",
       "    </tr>\n",
       "    <tr>\n",
       "      <th>3</th>\n",
       "      <td>895</td>\n",
       "      <td>3</td>\n",
       "      <td>Wirz, Mr. Albert</td>\n",
       "      <td>male</td>\n",
       "      <td>27.0</td>\n",
       "      <td>0</td>\n",
       "      <td>0</td>\n",
       "      <td>315154</td>\n",
       "      <td>8.6625</td>\n",
       "      <td>NaN</td>\n",
       "      <td>S</td>\n",
       "    </tr>\n",
       "    <tr>\n",
       "      <th>4</th>\n",
       "      <td>896</td>\n",
       "      <td>3</td>\n",
       "      <td>Hirvonen, Mrs. Alexander (Helga E Lindqvist)</td>\n",
       "      <td>female</td>\n",
       "      <td>22.0</td>\n",
       "      <td>1</td>\n",
       "      <td>1</td>\n",
       "      <td>3101298</td>\n",
       "      <td>12.2875</td>\n",
       "      <td>NaN</td>\n",
       "      <td>S</td>\n",
       "    </tr>\n",
       "  </tbody>\n",
       "</table>\n",
       "</div>"
      ],
      "text/plain": [
       "   PassengerId  Pclass                                          Name     Sex  \\\n",
       "0          892       3                              Kelly, Mr. James    male   \n",
       "1          893       3              Wilkes, Mrs. James (Ellen Needs)  female   \n",
       "2          894       2                     Myles, Mr. Thomas Francis    male   \n",
       "3          895       3                              Wirz, Mr. Albert    male   \n",
       "4          896       3  Hirvonen, Mrs. Alexander (Helga E Lindqvist)  female   \n",
       "\n",
       "    Age  SibSp  Parch   Ticket     Fare Cabin Embarked  \n",
       "0  34.5      0      0   330911   7.8292   NaN        Q  \n",
       "1  47.0      1      0   363272   7.0000   NaN        S  \n",
       "2  62.0      0      0   240276   9.6875   NaN        Q  \n",
       "3  27.0      0      0   315154   8.6625   NaN        S  \n",
       "4  22.0      1      1  3101298  12.2875   NaN        S  "
      ]
     },
     "execution_count": 5,
     "metadata": {},
     "output_type": "execute_result"
    }
   ],
   "source": [
    "test_df.head(5)"
   ]
  },
  {
   "cell_type": "markdown",
   "metadata": {},
   "source": [
    "## Column descriptions:\n",
    "\n",
    "\n",
    "**11 features, 2 targets**\n",
    "\n",
    " - `PassengerId`: _(numerical)_ Integer ID of passenger\n",
    " - `Survived`: _(Ordinal target)_ Flag in training set to indicate whether the passenger survived (=1) or not (=0)\n",
    " - `Pclass`: _(Ordinal feature)_ Ticket class, 1 = 1st (Upper, i.e. Rose), 2 = 2nd (Middle), 3 = 3rd (Lower, i.e. Jack)\n",
    " - `Name`: _(String feature)_ Name of passenger, surname first, includes title of passenger\n",
    " - `Sex`: _(Categorical feature)_ string 'male' or 'female'\n",
    " - `Age`: _(Numerical feature)_ age of passengger in years. is fractional if less than 1. If age is estimated, it is in the form of xx.5\n",
    " - `SibSp`: _(Ordinal feature)_ # of siblings / spouses aboard the Titanic. Sibling = brother, sister, stepbrother, stepsister. Spouse = husband, wife (mistresses and fiances were ignored)\n",
    " - `Parch`: _(Ordinal feature)_ # of parents / children aboard the Titanic. Parent = mother, father. Child = daughter, son, stepdaughter, stepson. Some children travelled only with a nanny, therefore `Parch = 0` for them.\n",
    " - `Ticket`: _(alpha-numerica string feature)_ Ticket number (string type)\n",
    " - `Fare`: _(Numerical feature)_ passenger fare, i.e. cost of the ticket\n",
    " - `Cabin`: _(alpha-numeric string feature)_ cabin number of passenger's room. **Apparently, only 1st class has this**\n",
    " - `Embarked`: _(Categorical feature)_ Port of embarkation. C = Cherbourg, Q = Queenstown (now Cobh), S = Southampton\n",
    "\n",
    "**Note: test data set does not have `Survived` target**"
   ]
  },
  {
   "cell_type": "code",
   "execution_count": 6,
   "metadata": {},
   "outputs": [
    {
     "name": "stdout",
     "output_type": "stream",
     "text": [
      "Index(['PassengerId', 'Survived', 'Pclass', 'Name', 'Sex', 'Age', 'SibSp',\n",
      "       'Parch', 'Ticket', 'Fare', 'Cabin', 'Embarked'],\n",
      "      dtype='object')\n",
      "________________________________________\n",
      "Index(['PassengerId', 'Pclass', 'Name', 'Sex', 'Age', 'SibSp', 'Parch',\n",
      "       'Ticket', 'Fare', 'Cabin', 'Embarked'],\n",
      "      dtype='object')\n"
     ]
    }
   ],
   "source": [
    "print(train_df.columns)\n",
    "print('_'*40)\n",
    "print(test_df.columns)"
   ]
  },
  {
   "cell_type": "markdown",
   "metadata": {},
   "source": [
    "## Double check data types of columns in dataframes"
   ]
  },
  {
   "cell_type": "code",
   "execution_count": 7,
   "metadata": {},
   "outputs": [
    {
     "name": "stdout",
     "output_type": "stream",
     "text": [
      "PassengerId      int64\n",
      "Survived         int64\n",
      "Pclass           int64\n",
      "Name            object\n",
      "Sex             object\n",
      "Age            float64\n",
      "SibSp            int64\n",
      "Parch            int64\n",
      "Ticket          object\n",
      "Fare           float64\n",
      "Cabin           object\n",
      "Embarked        object\n",
      "dtype: object\n",
      "________________________________________\n",
      "PassengerId      int64\n",
      "Pclass           int64\n",
      "Name            object\n",
      "Sex             object\n",
      "Age            float64\n",
      "SibSp            int64\n",
      "Parch            int64\n",
      "Ticket          object\n",
      "Fare           float64\n",
      "Cabin           object\n",
      "Embarked        object\n",
      "dtype: object\n"
     ]
    }
   ],
   "source": [
    "print(train_df.dtypes)\n",
    "print('_'*40)\n",
    "print(test_df.dtypes)"
   ]
  },
  {
   "cell_type": "markdown",
   "metadata": {},
   "source": [
    "***\n",
    "# 2. Explore data (data quality, stats, viz, patterns)"
   ]
  },
  {
   "cell_type": "markdown",
   "metadata": {},
   "source": [
    "## How many samples in each column are NULL/NaN values?"
   ]
  },
  {
   "cell_type": "code",
   "execution_count": 8,
   "metadata": {},
   "outputs": [
    {
     "data": {
      "text/plain": [
       "PassengerId      0\n",
       "Survived         0\n",
       "Pclass           0\n",
       "Name             0\n",
       "Sex              0\n",
       "Age            177\n",
       "SibSp            0\n",
       "Parch            0\n",
       "Ticket           0\n",
       "Fare             0\n",
       "Cabin          687\n",
       "Embarked         2\n",
       "dtype: int64"
      ]
     },
     "execution_count": 8,
     "metadata": {},
     "output_type": "execute_result"
    }
   ],
   "source": [
    "train_df.isnull().sum()"
   ]
  },
  {
   "cell_type": "code",
   "execution_count": 9,
   "metadata": {},
   "outputs": [
    {
     "data": {
      "text/plain": [
       "PassengerId      0\n",
       "Pclass           0\n",
       "Name             0\n",
       "Sex              0\n",
       "Age             86\n",
       "SibSp            0\n",
       "Parch            0\n",
       "Ticket           0\n",
       "Fare             1\n",
       "Cabin          327\n",
       "Embarked         0\n",
       "dtype: int64"
      ]
     },
     "execution_count": 9,
     "metadata": {},
     "output_type": "execute_result"
    }
   ],
   "source": [
    "test_df.isnull().sum()"
   ]
  },
  {
   "cell_type": "markdown",
   "metadata": {},
   "source": [
    "### Conclusions/decisions from above:\n",
    "\n",
    " - Many ages are missing. Historically, age was an important factor in surviving the titanic disaster. Will have to see if the data indicates that as well (~20% of ages are missing from BOTH training and test data) \n",
    " - A LOT of cabin info is missing, since cabins were only assigned to first class passengers. This indicates that first class passengers are a minority in these samples. Should double check that if a passenger is 1st class, then they have a cabin assigned. If not, would have to do some special stuff to fill in the blanks if we want. (77-78% of samples lack a cabin)\n",
    " - There are a couple of embarkation ports missing in the training data, but none are missing in the test data. Might just drop those samples/passengers, or could try some modelling to fill in the gaps for the missing two. This coul be something we play with, since I am not sure what the right answer is, and it is the case for only 2 samples. (~0.2% of passengers in training data are lacking this data)\n",
    " - one fare in test data is missing"
   ]
  },
  {
   "cell_type": "markdown",
   "metadata": {},
   "source": [
    "## Print dataframe info for double checking"
   ]
  },
  {
   "cell_type": "code",
   "execution_count": 10,
   "metadata": {},
   "outputs": [
    {
     "name": "stdout",
     "output_type": "stream",
     "text": [
      "<class 'pandas.core.frame.DataFrame'>\n",
      "RangeIndex: 891 entries, 0 to 890\n",
      "Data columns (total 12 columns):\n",
      "PassengerId    891 non-null int64\n",
      "Survived       891 non-null int64\n",
      "Pclass         891 non-null int64\n",
      "Name           891 non-null object\n",
      "Sex            891 non-null object\n",
      "Age            714 non-null float64\n",
      "SibSp          891 non-null int64\n",
      "Parch          891 non-null int64\n",
      "Ticket         891 non-null object\n",
      "Fare           891 non-null float64\n",
      "Cabin          204 non-null object\n",
      "Embarked       889 non-null object\n",
      "dtypes: float64(2), int64(5), object(5)\n",
      "memory usage: 83.6+ KB\n",
      "None\n",
      "________________________________________\n",
      "<class 'pandas.core.frame.DataFrame'>\n",
      "RangeIndex: 418 entries, 0 to 417\n",
      "Data columns (total 11 columns):\n",
      "PassengerId    418 non-null int64\n",
      "Pclass         418 non-null int64\n",
      "Name           418 non-null object\n",
      "Sex            418 non-null object\n",
      "Age            332 non-null float64\n",
      "SibSp          418 non-null int64\n",
      "Parch          418 non-null int64\n",
      "Ticket         418 non-null object\n",
      "Fare           417 non-null float64\n",
      "Cabin          91 non-null object\n",
      "Embarked       418 non-null object\n",
      "dtypes: float64(2), int64(4), object(5)\n",
      "memory usage: 36.0+ KB\n",
      "None\n"
     ]
    }
   ],
   "source": [
    "print(train_df.info())\n",
    "print('_'*40)\n",
    "print(test_df.info())"
   ]
  },
  {
   "cell_type": "markdown",
   "metadata": {},
   "source": [
    "## How many passengers in training data survived/didn't survive?"
   ]
  },
  {
   "cell_type": "code",
   "execution_count": 11,
   "metadata": {},
   "outputs": [
    {
     "data": {
      "text/plain": [
       "Survived\n",
       "0    549\n",
       "1    342\n",
       "dtype: int64"
      ]
     },
     "execution_count": 11,
     "metadata": {},
     "output_type": "execute_result"
    }
   ],
   "source": [
    "train_df.groupby('Survived').size()"
   ]
  },
  {
   "cell_type": "markdown",
   "metadata": {},
   "source": [
    "## Print some high-level stats for dataframes"
   ]
  },
  {
   "cell_type": "code",
   "execution_count": 12,
   "metadata": {},
   "outputs": [
    {
     "data": {
      "text/html": [
       "<div>\n",
       "<style scoped>\n",
       "    .dataframe tbody tr th:only-of-type {\n",
       "        vertical-align: middle;\n",
       "    }\n",
       "\n",
       "    .dataframe tbody tr th {\n",
       "        vertical-align: top;\n",
       "    }\n",
       "\n",
       "    .dataframe thead th {\n",
       "        text-align: right;\n",
       "    }\n",
       "</style>\n",
       "<table border=\"1\" class=\"dataframe\">\n",
       "  <thead>\n",
       "    <tr style=\"text-align: right;\">\n",
       "      <th></th>\n",
       "      <th>PassengerId</th>\n",
       "      <th>Survived</th>\n",
       "      <th>Pclass</th>\n",
       "      <th>Age</th>\n",
       "      <th>SibSp</th>\n",
       "      <th>Parch</th>\n",
       "      <th>Fare</th>\n",
       "    </tr>\n",
       "  </thead>\n",
       "  <tbody>\n",
       "    <tr>\n",
       "      <th>count</th>\n",
       "      <td>891.000000</td>\n",
       "      <td>891.000000</td>\n",
       "      <td>891.000000</td>\n",
       "      <td>714.000000</td>\n",
       "      <td>891.000000</td>\n",
       "      <td>891.000000</td>\n",
       "      <td>891.000000</td>\n",
       "    </tr>\n",
       "    <tr>\n",
       "      <th>mean</th>\n",
       "      <td>446.000000</td>\n",
       "      <td>0.383838</td>\n",
       "      <td>2.308642</td>\n",
       "      <td>29.699118</td>\n",
       "      <td>0.523008</td>\n",
       "      <td>0.381594</td>\n",
       "      <td>32.204208</td>\n",
       "    </tr>\n",
       "    <tr>\n",
       "      <th>std</th>\n",
       "      <td>257.353842</td>\n",
       "      <td>0.486592</td>\n",
       "      <td>0.836071</td>\n",
       "      <td>14.526497</td>\n",
       "      <td>1.102743</td>\n",
       "      <td>0.806057</td>\n",
       "      <td>49.693429</td>\n",
       "    </tr>\n",
       "    <tr>\n",
       "      <th>min</th>\n",
       "      <td>1.000000</td>\n",
       "      <td>0.000000</td>\n",
       "      <td>1.000000</td>\n",
       "      <td>0.420000</td>\n",
       "      <td>0.000000</td>\n",
       "      <td>0.000000</td>\n",
       "      <td>0.000000</td>\n",
       "    </tr>\n",
       "    <tr>\n",
       "      <th>25%</th>\n",
       "      <td>223.500000</td>\n",
       "      <td>0.000000</td>\n",
       "      <td>2.000000</td>\n",
       "      <td>20.125000</td>\n",
       "      <td>0.000000</td>\n",
       "      <td>0.000000</td>\n",
       "      <td>7.910400</td>\n",
       "    </tr>\n",
       "    <tr>\n",
       "      <th>50%</th>\n",
       "      <td>446.000000</td>\n",
       "      <td>0.000000</td>\n",
       "      <td>3.000000</td>\n",
       "      <td>28.000000</td>\n",
       "      <td>0.000000</td>\n",
       "      <td>0.000000</td>\n",
       "      <td>14.454200</td>\n",
       "    </tr>\n",
       "    <tr>\n",
       "      <th>75%</th>\n",
       "      <td>668.500000</td>\n",
       "      <td>1.000000</td>\n",
       "      <td>3.000000</td>\n",
       "      <td>38.000000</td>\n",
       "      <td>1.000000</td>\n",
       "      <td>0.000000</td>\n",
       "      <td>31.000000</td>\n",
       "    </tr>\n",
       "    <tr>\n",
       "      <th>max</th>\n",
       "      <td>891.000000</td>\n",
       "      <td>1.000000</td>\n",
       "      <td>3.000000</td>\n",
       "      <td>80.000000</td>\n",
       "      <td>8.000000</td>\n",
       "      <td>6.000000</td>\n",
       "      <td>512.329200</td>\n",
       "    </tr>\n",
       "  </tbody>\n",
       "</table>\n",
       "</div>"
      ],
      "text/plain": [
       "       PassengerId    Survived      Pclass         Age       SibSp  \\\n",
       "count   891.000000  891.000000  891.000000  714.000000  891.000000   \n",
       "mean    446.000000    0.383838    2.308642   29.699118    0.523008   \n",
       "std     257.353842    0.486592    0.836071   14.526497    1.102743   \n",
       "min       1.000000    0.000000    1.000000    0.420000    0.000000   \n",
       "25%     223.500000    0.000000    2.000000   20.125000    0.000000   \n",
       "50%     446.000000    0.000000    3.000000   28.000000    0.000000   \n",
       "75%     668.500000    1.000000    3.000000   38.000000    1.000000   \n",
       "max     891.000000    1.000000    3.000000   80.000000    8.000000   \n",
       "\n",
       "            Parch        Fare  \n",
       "count  891.000000  891.000000  \n",
       "mean     0.381594   32.204208  \n",
       "std      0.806057   49.693429  \n",
       "min      0.000000    0.000000  \n",
       "25%      0.000000    7.910400  \n",
       "50%      0.000000   14.454200  \n",
       "75%      0.000000   31.000000  \n",
       "max      6.000000  512.329200  "
      ]
     },
     "execution_count": 12,
     "metadata": {},
     "output_type": "execute_result"
    }
   ],
   "source": [
    "train_df.describe()"
   ]
  },
  {
   "cell_type": "markdown",
   "metadata": {},
   "source": [
    "### Conlusions/Decisions from above:\n",
    "\n",
    " - ~38% survival rate\n",
    " - Most passengers in 2nd or 3rd class. At least 50% of passengers are in 3rd class.\n",
    " - Mean and median age in late twenties. 50% of passengers are aged between ~20 and 38 years old. \n",
    " - On average, passengers travelling with 0.5 siblings/spouses. Median is zero though, so at least 50% of passengers not travelling with siblings/spouses\n",
    " - On average, passengers travel with 0.38 parents/children. Median, 25th, and 75th percentile are zero, though, so, at least 75% of passengers are not travelling with parents/children.\n",
    " - Average fare is ~\\\\$32. Median is ~\\\\$14.5. Fares are skewed quite a lot towards higher fares."
   ]
  },
  {
   "cell_type": "code",
   "execution_count": 13,
   "metadata": {},
   "outputs": [
    {
     "data": {
      "text/html": [
       "<div>\n",
       "<style scoped>\n",
       "    .dataframe tbody tr th:only-of-type {\n",
       "        vertical-align: middle;\n",
       "    }\n",
       "\n",
       "    .dataframe tbody tr th {\n",
       "        vertical-align: top;\n",
       "    }\n",
       "\n",
       "    .dataframe thead th {\n",
       "        text-align: right;\n",
       "    }\n",
       "</style>\n",
       "<table border=\"1\" class=\"dataframe\">\n",
       "  <thead>\n",
       "    <tr style=\"text-align: right;\">\n",
       "      <th></th>\n",
       "      <th>Name</th>\n",
       "      <th>Sex</th>\n",
       "      <th>Ticket</th>\n",
       "      <th>Cabin</th>\n",
       "      <th>Embarked</th>\n",
       "    </tr>\n",
       "  </thead>\n",
       "  <tbody>\n",
       "    <tr>\n",
       "      <th>count</th>\n",
       "      <td>891</td>\n",
       "      <td>891</td>\n",
       "      <td>891</td>\n",
       "      <td>204</td>\n",
       "      <td>889</td>\n",
       "    </tr>\n",
       "    <tr>\n",
       "      <th>unique</th>\n",
       "      <td>891</td>\n",
       "      <td>2</td>\n",
       "      <td>681</td>\n",
       "      <td>147</td>\n",
       "      <td>3</td>\n",
       "    </tr>\n",
       "    <tr>\n",
       "      <th>top</th>\n",
       "      <td>Lemberopolous, Mr. Peter L</td>\n",
       "      <td>male</td>\n",
       "      <td>CA. 2343</td>\n",
       "      <td>C23 C25 C27</td>\n",
       "      <td>S</td>\n",
       "    </tr>\n",
       "    <tr>\n",
       "      <th>freq</th>\n",
       "      <td>1</td>\n",
       "      <td>577</td>\n",
       "      <td>7</td>\n",
       "      <td>4</td>\n",
       "      <td>644</td>\n",
       "    </tr>\n",
       "  </tbody>\n",
       "</table>\n",
       "</div>"
      ],
      "text/plain": [
       "                              Name   Sex    Ticket        Cabin Embarked\n",
       "count                          891   891       891          204      889\n",
       "unique                         891     2       681          147        3\n",
       "top     Lemberopolous, Mr. Peter L  male  CA. 2343  C23 C25 C27        S\n",
       "freq                             1   577         7            4      644"
      ]
     },
     "execution_count": 13,
     "metadata": {},
     "output_type": "execute_result"
    }
   ],
   "source": [
    "train_df.describe(include=['O'])"
   ]
  },
  {
   "cell_type": "markdown",
   "metadata": {},
   "source": [
    "### Conclusions/decisions from above:\n",
    "\n",
    " - Every passenger has a unique name\n",
    " - ~65% of passengers in training data are male\n",
    " - Tickets can be duplicate --> Not sure what these represent then\n",
    " - Cabins can be duplicate, so, more than one person can be assigned to a cabin. Number of duplicates for a passenger might correspond to sibsp and/or Parch \n",
    " - Most popular port of embarkation is 'S', Southampton, ~72% of passengers in training data embarked from here"
   ]
  },
  {
   "cell_type": "code",
   "execution_count": 14,
   "metadata": {},
   "outputs": [
    {
     "data": {
      "text/html": [
       "<div>\n",
       "<style scoped>\n",
       "    .dataframe tbody tr th:only-of-type {\n",
       "        vertical-align: middle;\n",
       "    }\n",
       "\n",
       "    .dataframe tbody tr th {\n",
       "        vertical-align: top;\n",
       "    }\n",
       "\n",
       "    .dataframe thead th {\n",
       "        text-align: right;\n",
       "    }\n",
       "</style>\n",
       "<table border=\"1\" class=\"dataframe\">\n",
       "  <thead>\n",
       "    <tr style=\"text-align: right;\">\n",
       "      <th></th>\n",
       "      <th>PassengerId</th>\n",
       "      <th>Pclass</th>\n",
       "      <th>Age</th>\n",
       "      <th>SibSp</th>\n",
       "      <th>Parch</th>\n",
       "      <th>Fare</th>\n",
       "    </tr>\n",
       "  </thead>\n",
       "  <tbody>\n",
       "    <tr>\n",
       "      <th>count</th>\n",
       "      <td>418.000000</td>\n",
       "      <td>418.000000</td>\n",
       "      <td>332.000000</td>\n",
       "      <td>418.000000</td>\n",
       "      <td>418.000000</td>\n",
       "      <td>417.000000</td>\n",
       "    </tr>\n",
       "    <tr>\n",
       "      <th>mean</th>\n",
       "      <td>1100.500000</td>\n",
       "      <td>2.265550</td>\n",
       "      <td>30.272590</td>\n",
       "      <td>0.447368</td>\n",
       "      <td>0.392344</td>\n",
       "      <td>35.627188</td>\n",
       "    </tr>\n",
       "    <tr>\n",
       "      <th>std</th>\n",
       "      <td>120.810458</td>\n",
       "      <td>0.841838</td>\n",
       "      <td>14.181209</td>\n",
       "      <td>0.896760</td>\n",
       "      <td>0.981429</td>\n",
       "      <td>55.907576</td>\n",
       "    </tr>\n",
       "    <tr>\n",
       "      <th>min</th>\n",
       "      <td>892.000000</td>\n",
       "      <td>1.000000</td>\n",
       "      <td>0.170000</td>\n",
       "      <td>0.000000</td>\n",
       "      <td>0.000000</td>\n",
       "      <td>0.000000</td>\n",
       "    </tr>\n",
       "    <tr>\n",
       "      <th>25%</th>\n",
       "      <td>996.250000</td>\n",
       "      <td>1.000000</td>\n",
       "      <td>21.000000</td>\n",
       "      <td>0.000000</td>\n",
       "      <td>0.000000</td>\n",
       "      <td>7.895800</td>\n",
       "    </tr>\n",
       "    <tr>\n",
       "      <th>50%</th>\n",
       "      <td>1100.500000</td>\n",
       "      <td>3.000000</td>\n",
       "      <td>27.000000</td>\n",
       "      <td>0.000000</td>\n",
       "      <td>0.000000</td>\n",
       "      <td>14.454200</td>\n",
       "    </tr>\n",
       "    <tr>\n",
       "      <th>75%</th>\n",
       "      <td>1204.750000</td>\n",
       "      <td>3.000000</td>\n",
       "      <td>39.000000</td>\n",
       "      <td>1.000000</td>\n",
       "      <td>0.000000</td>\n",
       "      <td>31.500000</td>\n",
       "    </tr>\n",
       "    <tr>\n",
       "      <th>max</th>\n",
       "      <td>1309.000000</td>\n",
       "      <td>3.000000</td>\n",
       "      <td>76.000000</td>\n",
       "      <td>8.000000</td>\n",
       "      <td>9.000000</td>\n",
       "      <td>512.329200</td>\n",
       "    </tr>\n",
       "  </tbody>\n",
       "</table>\n",
       "</div>"
      ],
      "text/plain": [
       "       PassengerId      Pclass         Age       SibSp       Parch        Fare\n",
       "count   418.000000  418.000000  332.000000  418.000000  418.000000  417.000000\n",
       "mean   1100.500000    2.265550   30.272590    0.447368    0.392344   35.627188\n",
       "std     120.810458    0.841838   14.181209    0.896760    0.981429   55.907576\n",
       "min     892.000000    1.000000    0.170000    0.000000    0.000000    0.000000\n",
       "25%     996.250000    1.000000   21.000000    0.000000    0.000000    7.895800\n",
       "50%    1100.500000    3.000000   27.000000    0.000000    0.000000   14.454200\n",
       "75%    1204.750000    3.000000   39.000000    1.000000    0.000000   31.500000\n",
       "max    1309.000000    3.000000   76.000000    8.000000    9.000000  512.329200"
      ]
     },
     "execution_count": 14,
     "metadata": {},
     "output_type": "execute_result"
    }
   ],
   "source": [
    "test_df.describe()"
   ]
  },
  {
   "cell_type": "markdown",
   "metadata": {},
   "source": [
    "### Conclusions/decisions from above:\n",
    "\n",
    " - **Pretty much the same observations as with the training data**"
   ]
  },
  {
   "cell_type": "code",
   "execution_count": 15,
   "metadata": {},
   "outputs": [
    {
     "data": {
      "text/html": [
       "<div>\n",
       "<style scoped>\n",
       "    .dataframe tbody tr th:only-of-type {\n",
       "        vertical-align: middle;\n",
       "    }\n",
       "\n",
       "    .dataframe tbody tr th {\n",
       "        vertical-align: top;\n",
       "    }\n",
       "\n",
       "    .dataframe thead th {\n",
       "        text-align: right;\n",
       "    }\n",
       "</style>\n",
       "<table border=\"1\" class=\"dataframe\">\n",
       "  <thead>\n",
       "    <tr style=\"text-align: right;\">\n",
       "      <th></th>\n",
       "      <th>Name</th>\n",
       "      <th>Sex</th>\n",
       "      <th>Ticket</th>\n",
       "      <th>Cabin</th>\n",
       "      <th>Embarked</th>\n",
       "    </tr>\n",
       "  </thead>\n",
       "  <tbody>\n",
       "    <tr>\n",
       "      <th>count</th>\n",
       "      <td>418</td>\n",
       "      <td>418</td>\n",
       "      <td>418</td>\n",
       "      <td>91</td>\n",
       "      <td>418</td>\n",
       "    </tr>\n",
       "    <tr>\n",
       "      <th>unique</th>\n",
       "      <td>418</td>\n",
       "      <td>2</td>\n",
       "      <td>363</td>\n",
       "      <td>76</td>\n",
       "      <td>3</td>\n",
       "    </tr>\n",
       "    <tr>\n",
       "      <th>top</th>\n",
       "      <td>Sadowitz, Mr. Harry</td>\n",
       "      <td>male</td>\n",
       "      <td>PC 17608</td>\n",
       "      <td>B57 B59 B63 B66</td>\n",
       "      <td>S</td>\n",
       "    </tr>\n",
       "    <tr>\n",
       "      <th>freq</th>\n",
       "      <td>1</td>\n",
       "      <td>266</td>\n",
       "      <td>5</td>\n",
       "      <td>3</td>\n",
       "      <td>270</td>\n",
       "    </tr>\n",
       "  </tbody>\n",
       "</table>\n",
       "</div>"
      ],
      "text/plain": [
       "                       Name   Sex    Ticket            Cabin Embarked\n",
       "count                   418   418       418               91      418\n",
       "unique                  418     2       363               76        3\n",
       "top     Sadowitz, Mr. Harry  male  PC 17608  B57 B59 B63 B66        S\n",
       "freq                      1   266         5                3      270"
      ]
     },
     "execution_count": 15,
     "metadata": {},
     "output_type": "execute_result"
    }
   ],
   "source": [
    "test_df.describe(include=['O'])"
   ]
  },
  {
   "cell_type": "markdown",
   "metadata": {},
   "source": [
    "### Conclusions/decisions from above:\n",
    "\n",
    " - **Pretty much the same observations as with the training data**"
   ]
  },
  {
   "cell_type": "markdown",
   "metadata": {},
   "source": [
    "## Plot histograms of numerical columns in training data"
   ]
  },
  {
   "cell_type": "code",
   "execution_count": 16,
   "metadata": {},
   "outputs": [
    {
     "data": {
      "text/plain": [
       "array([[<matplotlib.axes._subplots.AxesSubplot object at 0x1a25f85ba8>,\n",
       "        <matplotlib.axes._subplots.AxesSubplot object at 0x110033da0>,\n",
       "        <matplotlib.axes._subplots.AxesSubplot object at 0x110066208>],\n",
       "       [<matplotlib.axes._subplots.AxesSubplot object at 0x10f41d780>,\n",
       "        <matplotlib.axes._subplots.AxesSubplot object at 0x110093c50>,\n",
       "        <matplotlib.axes._subplots.AxesSubplot object at 0x1100c4208>],\n",
       "       [<matplotlib.axes._subplots.AxesSubplot object at 0x1a26095780>,\n",
       "        <matplotlib.axes._subplots.AxesSubplot object at 0x1a260bcd30>,\n",
       "        <matplotlib.axes._subplots.AxesSubplot object at 0x1a260bcd68>]],\n",
       "      dtype=object)"
      ]
     },
     "execution_count": 16,
     "metadata": {},
     "output_type": "execute_result"
    },
    {
     "data": {
      "image/png": "[encoded data removed]",
      "text/plain": [
       "<Figure size 1440x720 with 9 Axes>"
      ]
     },
     "metadata": {
      "needs_background": "light"
     },
     "output_type": "display_data"
    }
   ],
   "source": [
    "train_df.hist(figsize=(20,10), layout=(3,3), bins=20)"
   ]
  },
  {
   "cell_type": "markdown",
   "metadata": {},
   "source": [
    "### Conclusions/decisions from above:\n",
    "\n",
    "Not many conclusions can be drawn from the above plot. \n",
    " - Age: Central age is ~25, and there is a bump at very young ages.\n",
    " - Fare: Most fares were relatively low.\n",
    " - Parch: Number of parents/children tends to zero.\n",
    " - Pclass: Most passengers were in 2nd and 3rd(!) class.\n",
    " - SibSp: Most passengers were travelling with 1 or fewer siblings/spouses"
   ]
  },
  {
   "cell_type": "markdown",
   "metadata": {},
   "source": [
    "## Plot box and whisker plots of numerical training data"
   ]
  },
  {
   "cell_type": "code",
   "execution_count": 17,
   "metadata": {},
   "outputs": [
    {
     "data": {
      "text/plain": [
       "PassengerId       AxesSubplot(0.125,0.657941;0.227941x0.222059)\n",
       "Survived       AxesSubplot(0.398529,0.657941;0.227941x0.222059)\n",
       "Pclass         AxesSubplot(0.672059,0.657941;0.227941x0.222059)\n",
       "Age               AxesSubplot(0.125,0.391471;0.227941x0.222059)\n",
       "SibSp          AxesSubplot(0.398529,0.391471;0.227941x0.222059)\n",
       "Parch          AxesSubplot(0.672059,0.391471;0.227941x0.222059)\n",
       "Fare                 AxesSubplot(0.125,0.125;0.227941x0.222059)\n",
       "dtype: object"
      ]
     },
     "execution_count": 17,
     "metadata": {},
     "output_type": "execute_result"
    },
    {
     "data": {
      "image/png": "[encoded data removed]",
      "text/plain": [
       "<Figure size 1440x720 with 9 Axes>"
      ]
     },
     "metadata": {
      "needs_background": "light"
     },
     "output_type": "display_data"
    }
   ],
   "source": [
    "train_df.plot(\n",
    "    figsize=(20,10), \n",
    "    kind='box', \n",
    "    sharex=False, \n",
    "    subplots=True, \n",
    "    layout=(3,3)\n",
    ")"
   ]
  },
  {
   "cell_type": "markdown",
   "metadata": {},
   "source": [
    "### Conclusions/decisions from above:\n",
    "\n",
    "The same conclusions can be drawn from the histogram plot above this box and whisker plot. This plot is here mostly for completeness and reference for how to plot a box and whisker plot straight from a pandas dataframe."
   ]
  },
  {
   "cell_type": "markdown",
   "metadata": {},
   "source": [
    "## Plot 2D scatter plots of numerical training data (with relation to survival)"
   ]
  },
  {
   "cell_type": "code",
   "execution_count": 18,
   "metadata": {
    "scrolled": false
   },
   "outputs": [
    {
     "data": {
      "text/plain": [
       "array([[<matplotlib.axes._subplots.AxesSubplot object at 0x1a27039048>,\n",
       "        <matplotlib.axes._subplots.AxesSubplot object at 0x1a27067eb8>,\n",
       "        <matplotlib.axes._subplots.AxesSubplot object at 0x1a27323160>,\n",
       "        <matplotlib.axes._subplots.AxesSubplot object at 0x1a2734d3c8>,\n",
       "        <matplotlib.axes._subplots.AxesSubplot object at 0x1a27374630>,\n",
       "        <matplotlib.axes._subplots.AxesSubplot object at 0x1a2739f898>,\n",
       "        <matplotlib.axes._subplots.AxesSubplot object at 0x1a273c7d30>],\n",
       "       [<matplotlib.axes._subplots.AxesSubplot object at 0x1a273f7320>,\n",
       "        <matplotlib.axes._subplots.AxesSubplot object at 0x1a273f7358>,\n",
       "        <matplotlib.axes._subplots.AxesSubplot object at 0x1a2744add8>,\n",
       "        <matplotlib.axes._subplots.AxesSubplot object at 0x1a2747a390>,\n",
       "        <matplotlib.axes._subplots.AxesSubplot object at 0x1a274a4908>,\n",
       "        <matplotlib.axes._subplots.AxesSubplot object at 0x1a274cbe80>,\n",
       "        <matplotlib.axes._subplots.AxesSubplot object at 0x1a274fb438>],\n",
       "       [<matplotlib.axes._subplots.AxesSubplot object at 0x1a275229b0>,\n",
       "        <matplotlib.axes._subplots.AxesSubplot object at 0x1a2754cf28>,\n",
       "        <matplotlib.axes._subplots.AxesSubplot object at 0x1a2757d4e0>,\n",
       "        <matplotlib.axes._subplots.AxesSubplot object at 0x1a275a3a58>,\n",
       "        <matplotlib.axes._subplots.AxesSubplot object at 0x1a275cdfd0>,\n",
       "        <matplotlib.axes._subplots.AxesSubplot object at 0x1a275fd588>,\n",
       "        <matplotlib.axes._subplots.AxesSubplot object at 0x1a27624b00>],\n",
       "       [<matplotlib.axes._subplots.AxesSubplot object at 0x1a276590b8>,\n",
       "        <matplotlib.axes._subplots.AxesSubplot object at 0x1a27671390>,\n",
       "        <matplotlib.axes._subplots.AxesSubplot object at 0x1a27696908>,\n",
       "        <matplotlib.axes._subplots.AxesSubplot object at 0x1a276bfe80>,\n",
       "        <matplotlib.axes._subplots.AxesSubplot object at 0x1a276ef438>,\n",
       "        <matplotlib.axes._subplots.AxesSubplot object at 0x1a277159b0>,\n",
       "        <matplotlib.axes._subplots.AxesSubplot object at 0x1a2773ff28>],\n",
       "       [<matplotlib.axes._subplots.AxesSubplot object at 0x1a277704e0>,\n",
       "        <matplotlib.axes._subplots.AxesSubplot object at 0x1a2779aa58>,\n",
       "        <matplotlib.axes._subplots.AxesSubplot object at 0x1a277c3fd0>,\n",
       "        <matplotlib.axes._subplots.AxesSubplot object at 0x1a277f3588>,\n",
       "        <matplotlib.axes._subplots.AxesSubplot object at 0x1a2781bb00>,\n",
       "        <matplotlib.axes._subplots.AxesSubplot object at 0x1a2784e0b8>,\n",
       "        <matplotlib.axes._subplots.AxesSubplot object at 0x1a27873630>],\n",
       "       [<matplotlib.axes._subplots.AxesSubplot object at 0x1a2789dba8>,\n",
       "        <matplotlib.axes._subplots.AxesSubplot object at 0x1a278cc160>,\n",
       "        <matplotlib.axes._subplots.AxesSubplot object at 0x1a278f66d8>,\n",
       "        <matplotlib.axes._subplots.AxesSubplot object at 0x1a2791ec50>,\n",
       "        <matplotlib.axes._subplots.AxesSubplot object at 0x1a2794d208>,\n",
       "        <matplotlib.axes._subplots.AxesSubplot object at 0x1a27975780>,\n",
       "        <matplotlib.axes._subplots.AxesSubplot object at 0x1a2799fcf8>],\n",
       "       [<matplotlib.axes._subplots.AxesSubplot object at 0x1a279ce2b0>,\n",
       "        <matplotlib.axes._subplots.AxesSubplot object at 0x1a279f3828>,\n",
       "        <matplotlib.axes._subplots.AxesSubplot object at 0x1a27a1fda0>,\n",
       "        <matplotlib.axes._subplots.AxesSubplot object at 0x1a27a50358>,\n",
       "        <matplotlib.axes._subplots.AxesSubplot object at 0x1a27a788d0>,\n",
       "        <matplotlib.axes._subplots.AxesSubplot object at 0x1a27aa3e48>,\n",
       "        <matplotlib.axes._subplots.AxesSubplot object at 0x1a27ad3400>]],\n",
       "      dtype=object)"
      ]
     },
     "execution_count": 18,
     "metadata": {},
     "output_type": "execute_result"
    },
    {
     "data": {
      "image/png": "[encoded data removed]",
      "text/plain": [
       "<Figure size 1440x720 with 49 Axes>"
      ]
     },
     "metadata": {
      "needs_background": "light"
     },
     "output_type": "display_data"
    }
   ],
   "source": [
    "#from pandas.plotting import scatter_matrix\n",
    "temp_filtered_df = train_df[train_df['Age'].notnull()]\n",
    "pd.plotting.scatter_matrix(\n",
    "    temp_filtered_df, \n",
    "    figsize=(20,10), \n",
    "    c=temp_filtered_df['Survived'], \n",
    "    alpha=0.3\n",
    ")\n",
    "#plt.legend(loc = 'best')"
   ]
  },
  {
   "cell_type": "markdown",
   "metadata": {},
   "source": [
    "### Conclusions/decision from above: \n",
    "\n",
    "It is very difficult to pick out relations between attributes with regards to survival. (Also, not sure which colour corresponds to survived and not survived). Have to dig in a bit more."
   ]
  },
  {
   "cell_type": "markdown",
   "metadata": {},
   "source": [
    "## Plot correlation matrix of numerical training data"
   ]
  },
  {
   "cell_type": "code",
   "execution_count": 19,
   "metadata": {},
   "outputs": [
    {
     "data": {
      "image/png": "[encoded data removed]",
      "text/plain": [
       "<Figure size 720x720 with 2 Axes>"
      ]
     },
     "metadata": {
      "needs_background": "light"
     },
     "output_type": "display_data"
    }
   ],
   "source": [
    "names = ['Pclass', 'Age', 'SibSp', 'Parch', 'Fare']\n",
    "corr_train_df = train_df[names].corr()\n",
    "\n",
    "fig = plt.figure(figsize=(10,10))\n",
    "ax = fig.add_subplot(111)\n",
    "corr_plot = ax.matshow(corr_train_df, vmin=-1, vmax=1, cmap='Spectral')\n",
    "fig.colorbar(corr_plot)\n",
    "ticks = np.arange(0,5,1) # total 6 items\n",
    "ax.set_xticks(ticks)\n",
    "ax.set_yticks(ticks)\n",
    "ax.set_xticklabels(names)\n",
    "ax.set_yticklabels(names)\n",
    "plt.show()"
   ]
  },
  {
   "cell_type": "markdown",
   "metadata": {},
   "source": [
    "### Conclusions/decisions from above:\n",
    "\n",
    " - Pclass and Fare are negatively correlated --> Upper class tend to pay higher fare\n",
    " - Age and Pclass seems to be slightly negatively correlated --> older people tend to be more from upper class\n",
    " - Age and SibSp seems to be slightly negatively correlated --> Younger passengers tend to have more siblings/spouses\n",
    " - SibSp and Parch seems to be slightly positively correlated --> Passengers travelling with siblings/spouses tend to also be travlling with parents/children (Maybe this is just families travelling together?)\n",
    " - **All other combinations --> doesn't seem to be a definite correlation between them**"
   ]
  },
  {
   "cell_type": "markdown",
   "metadata": {},
   "source": [
    "## Analyze survival rate as related to (categorical and ordinal) features\n",
    "\n",
    "Can only do this for features that contain no NaN values (So, can't do this for Age, embark, and cabin). Also, would be easiest to only do this for categorical features (Pclass, Sex, Parch, SibSp). (Note, in general this could be done for all features, but at this point we do have features that contain NaN values and not all features are binned/categorized)."
   ]
  },
  {
   "cell_type": "code",
   "execution_count": 20,
   "metadata": {},
   "outputs": [
    {
     "data": {
      "text/html": [
       "<div>\n",
       "<style scoped>\n",
       "    .dataframe tbody tr th:only-of-type {\n",
       "        vertical-align: middle;\n",
       "    }\n",
       "\n",
       "    .dataframe tbody tr th {\n",
       "        vertical-align: top;\n",
       "    }\n",
       "\n",
       "    .dataframe thead th {\n",
       "        text-align: right;\n",
       "    }\n",
       "</style>\n",
       "<table border=\"1\" class=\"dataframe\">\n",
       "  <thead>\n",
       "    <tr style=\"text-align: right;\">\n",
       "      <th></th>\n",
       "      <th>Pclass</th>\n",
       "      <th>Survived</th>\n",
       "    </tr>\n",
       "  </thead>\n",
       "  <tbody>\n",
       "    <tr>\n",
       "      <th>0</th>\n",
       "      <td>1</td>\n",
       "      <td>0.629630</td>\n",
       "    </tr>\n",
       "    <tr>\n",
       "      <th>1</th>\n",
       "      <td>2</td>\n",
       "      <td>0.472826</td>\n",
       "    </tr>\n",
       "    <tr>\n",
       "      <th>2</th>\n",
       "      <td>3</td>\n",
       "      <td>0.242363</td>\n",
       "    </tr>\n",
       "  </tbody>\n",
       "</table>\n",
       "</div>"
      ],
      "text/plain": [
       "   Pclass  Survived\n",
       "0       1  0.629630\n",
       "1       2  0.472826\n",
       "2       3  0.242363"
      ]
     },
     "execution_count": 20,
     "metadata": {},
     "output_type": "execute_result"
    }
   ],
   "source": [
    "(\n",
    "    train_df[['Pclass', 'Survived']]\n",
    "    .groupby(['Pclass'], as_index=False)\n",
    "    .mean()\n",
    "    .sort_values(by='Survived', ascending=False)\n",
    ")"
   ]
  },
  {
   "cell_type": "code",
   "execution_count": 21,
   "metadata": {},
   "outputs": [
    {
     "data": {
      "text/html": [
       "<div>\n",
       "<style scoped>\n",
       "    .dataframe tbody tr th:only-of-type {\n",
       "        vertical-align: middle;\n",
       "    }\n",
       "\n",
       "    .dataframe tbody tr th {\n",
       "        vertical-align: top;\n",
       "    }\n",
       "\n",
       "    .dataframe thead th {\n",
       "        text-align: right;\n",
       "    }\n",
       "</style>\n",
       "<table border=\"1\" class=\"dataframe\">\n",
       "  <thead>\n",
       "    <tr style=\"text-align: right;\">\n",
       "      <th></th>\n",
       "      <th>Sex</th>\n",
       "      <th>Survived</th>\n",
       "    </tr>\n",
       "  </thead>\n",
       "  <tbody>\n",
       "    <tr>\n",
       "      <th>0</th>\n",
       "      <td>female</td>\n",
       "      <td>0.742038</td>\n",
       "    </tr>\n",
       "    <tr>\n",
       "      <th>1</th>\n",
       "      <td>male</td>\n",
       "      <td>0.188908</td>\n",
       "    </tr>\n",
       "  </tbody>\n",
       "</table>\n",
       "</div>"
      ],
      "text/plain": [
       "      Sex  Survived\n",
       "0  female  0.742038\n",
       "1    male  0.188908"
      ]
     },
     "execution_count": 21,
     "metadata": {},
     "output_type": "execute_result"
    }
   ],
   "source": [
    "(\n",
    "    train_df[['Sex', 'Survived']]\n",
    "    .groupby(['Sex'], as_index=False)\n",
    "    .mean().sort_values(by='Survived', ascending=False)\n",
    ")"
   ]
  },
  {
   "cell_type": "code",
   "execution_count": 22,
   "metadata": {},
   "outputs": [
    {
     "data": {
      "text/html": [
       "<div>\n",
       "<style scoped>\n",
       "    .dataframe tbody tr th:only-of-type {\n",
       "        vertical-align: middle;\n",
       "    }\n",
       "\n",
       "    .dataframe tbody tr th {\n",
       "        vertical-align: top;\n",
       "    }\n",
       "\n",
       "    .dataframe thead th {\n",
       "        text-align: right;\n",
       "    }\n",
       "</style>\n",
       "<table border=\"1\" class=\"dataframe\">\n",
       "  <thead>\n",
       "    <tr style=\"text-align: right;\">\n",
       "      <th></th>\n",
       "      <th>SibSp</th>\n",
       "      <th>Survived</th>\n",
       "    </tr>\n",
       "  </thead>\n",
       "  <tbody>\n",
       "    <tr>\n",
       "      <th>0</th>\n",
       "      <td>0</td>\n",
       "      <td>0.345395</td>\n",
       "    </tr>\n",
       "    <tr>\n",
       "      <th>1</th>\n",
       "      <td>1</td>\n",
       "      <td>0.535885</td>\n",
       "    </tr>\n",
       "    <tr>\n",
       "      <th>2</th>\n",
       "      <td>2</td>\n",
       "      <td>0.464286</td>\n",
       "    </tr>\n",
       "    <tr>\n",
       "      <th>3</th>\n",
       "      <td>3</td>\n",
       "      <td>0.250000</td>\n",
       "    </tr>\n",
       "    <tr>\n",
       "      <th>4</th>\n",
       "      <td>4</td>\n",
       "      <td>0.166667</td>\n",
       "    </tr>\n",
       "    <tr>\n",
       "      <th>5</th>\n",
       "      <td>5</td>\n",
       "      <td>0.000000</td>\n",
       "    </tr>\n",
       "    <tr>\n",
       "      <th>6</th>\n",
       "      <td>8</td>\n",
       "      <td>0.000000</td>\n",
       "    </tr>\n",
       "  </tbody>\n",
       "</table>\n",
       "</div>"
      ],
      "text/plain": [
       "   SibSp  Survived\n",
       "0      0  0.345395\n",
       "1      1  0.535885\n",
       "2      2  0.464286\n",
       "3      3  0.250000\n",
       "4      4  0.166667\n",
       "5      5  0.000000\n",
       "6      8  0.000000"
      ]
     },
     "execution_count": 22,
     "metadata": {},
     "output_type": "execute_result"
    }
   ],
   "source": [
    "(\n",
    "    train_df[['SibSp', 'Survived']]\n",
    "    .groupby(['SibSp'], as_index=False)\n",
    "    .mean()\n",
    ")"
   ]
  },
  {
   "cell_type": "code",
   "execution_count": 23,
   "metadata": {},
   "outputs": [
    {
     "data": {
      "text/html": [
       "<div>\n",
       "<style scoped>\n",
       "    .dataframe tbody tr th:only-of-type {\n",
       "        vertical-align: middle;\n",
       "    }\n",
       "\n",
       "    .dataframe tbody tr th {\n",
       "        vertical-align: top;\n",
       "    }\n",
       "\n",
       "    .dataframe thead th {\n",
       "        text-align: right;\n",
       "    }\n",
       "</style>\n",
       "<table border=\"1\" class=\"dataframe\">\n",
       "  <thead>\n",
       "    <tr style=\"text-align: right;\">\n",
       "      <th></th>\n",
       "      <th>Parch</th>\n",
       "      <th>Survived</th>\n",
       "    </tr>\n",
       "  </thead>\n",
       "  <tbody>\n",
       "    <tr>\n",
       "      <th>0</th>\n",
       "      <td>0</td>\n",
       "      <td>0.343658</td>\n",
       "    </tr>\n",
       "    <tr>\n",
       "      <th>1</th>\n",
       "      <td>1</td>\n",
       "      <td>0.550847</td>\n",
       "    </tr>\n",
       "    <tr>\n",
       "      <th>2</th>\n",
       "      <td>2</td>\n",
       "      <td>0.500000</td>\n",
       "    </tr>\n",
       "    <tr>\n",
       "      <th>3</th>\n",
       "      <td>3</td>\n",
       "      <td>0.600000</td>\n",
       "    </tr>\n",
       "    <tr>\n",
       "      <th>4</th>\n",
       "      <td>4</td>\n",
       "      <td>0.000000</td>\n",
       "    </tr>\n",
       "    <tr>\n",
       "      <th>5</th>\n",
       "      <td>5</td>\n",
       "      <td>0.200000</td>\n",
       "    </tr>\n",
       "    <tr>\n",
       "      <th>6</th>\n",
       "      <td>6</td>\n",
       "      <td>0.000000</td>\n",
       "    </tr>\n",
       "  </tbody>\n",
       "</table>\n",
       "</div>"
      ],
      "text/plain": [
       "   Parch  Survived\n",
       "0      0  0.343658\n",
       "1      1  0.550847\n",
       "2      2  0.500000\n",
       "3      3  0.600000\n",
       "4      4  0.000000\n",
       "5      5  0.200000\n",
       "6      6  0.000000"
      ]
     },
     "execution_count": 23,
     "metadata": {},
     "output_type": "execute_result"
    }
   ],
   "source": [
    "(\n",
    "    train_df[['Parch', 'Survived']]\n",
    "    .groupby(['Parch'], as_index=False)\n",
    "    .mean()\n",
    ")"
   ]
  },
  {
   "cell_type": "code",
   "execution_count": 24,
   "metadata": {},
   "outputs": [
    {
     "data": {
      "text/html": [
       "<div>\n",
       "<style scoped>\n",
       "    .dataframe tbody tr th:only-of-type {\n",
       "        vertical-align: middle;\n",
       "    }\n",
       "\n",
       "    .dataframe tbody tr th {\n",
       "        vertical-align: top;\n",
       "    }\n",
       "\n",
       "    .dataframe thead th {\n",
       "        text-align: right;\n",
       "    }\n",
       "</style>\n",
       "<table border=\"1\" class=\"dataframe\">\n",
       "  <thead>\n",
       "    <tr style=\"text-align: right;\">\n",
       "      <th></th>\n",
       "      <th>Embarked</th>\n",
       "      <th>Survived</th>\n",
       "    </tr>\n",
       "  </thead>\n",
       "  <tbody>\n",
       "    <tr>\n",
       "      <th>0</th>\n",
       "      <td>C</td>\n",
       "      <td>0.553571</td>\n",
       "    </tr>\n",
       "    <tr>\n",
       "      <th>1</th>\n",
       "      <td>Q</td>\n",
       "      <td>0.389610</td>\n",
       "    </tr>\n",
       "    <tr>\n",
       "      <th>2</th>\n",
       "      <td>S</td>\n",
       "      <td>0.336957</td>\n",
       "    </tr>\n",
       "  </tbody>\n",
       "</table>\n",
       "</div>"
      ],
      "text/plain": [
       "  Embarked  Survived\n",
       "0        C  0.553571\n",
       "1        Q  0.389610\n",
       "2        S  0.336957"
      ]
     },
     "execution_count": 24,
     "metadata": {},
     "output_type": "execute_result"
    }
   ],
   "source": [
    "(\n",
    "    train_df[['Embarked', 'Survived']]\n",
    "    .groupby(['Embarked'], as_index=False)\n",
    "    .mean()\n",
    "    .sort_values(by='Survived', ascending=False)\n",
    ")"
   ]
  },
  {
   "cell_type": "markdown",
   "metadata": {},
   "source": [
    "### Conclusions/decisions from above: \n",
    "\n",
    " - Pclass: Strong correlation between class and survival rate. 1st class passengers are more likely to survive, 3rd class are least likely. \n",
    " - Sex: Strong correlation between sex and survival. ~74% of females survived.\n",
    " - SibSp: Appears to be a negative correlation between survival and SibSp\n",
    " - Parch: No trend between survival and Parch is super evident\n",
    " - Embarked: No definite relationship between port of embarkation and survival. There appears to be a slight trend that embarking at 'S' correlates with not surviving (~33% survived). Conversely, passengers embarking from 'C' had a ~55% survival fraction.\n",
    "\n",
    "**Parch and Sibsp: What IS CLEAR is that travelling with a larger number of siblings/spouses or parents/children DOES RESULT IN A LOW SURVIVAL RATE**. This indicates that passengers belonging to larger families that are travelling together will probably not survive. Should include this as an engineered feature and see what trends come about. Does \"family size\" and survival rate correlate with class? (i.e. which classes tend to have larger families --> it is known that upper class passengers have higher survival rate, so my hypothesis is that large families tend to be from lower classes). \n",
    "\n",
    "**Can test this with current features below:**"
   ]
  },
  {
   "cell_type": "code",
   "execution_count": 25,
   "metadata": {},
   "outputs": [
    {
     "data": {
      "text/html": [
       "<div>\n",
       "<style scoped>\n",
       "    .dataframe tbody tr th:only-of-type {\n",
       "        vertical-align: middle;\n",
       "    }\n",
       "\n",
       "    .dataframe tbody tr th {\n",
       "        vertical-align: top;\n",
       "    }\n",
       "\n",
       "    .dataframe thead th {\n",
       "        text-align: right;\n",
       "    }\n",
       "</style>\n",
       "<table border=\"1\" class=\"dataframe\">\n",
       "  <thead>\n",
       "    <tr style=\"text-align: right;\">\n",
       "      <th></th>\n",
       "      <th>Pclass</th>\n",
       "      <th>SibSp</th>\n",
       "      <th>Survived</th>\n",
       "    </tr>\n",
       "  </thead>\n",
       "  <tbody>\n",
       "    <tr>\n",
       "      <th>7</th>\n",
       "      <td>2</td>\n",
       "      <td>3</td>\n",
       "      <td>1.000000</td>\n",
       "    </tr>\n",
       "    <tr>\n",
       "      <th>2</th>\n",
       "      <td>1</td>\n",
       "      <td>2</td>\n",
       "      <td>0.800000</td>\n",
       "    </tr>\n",
       "    <tr>\n",
       "      <th>1</th>\n",
       "      <td>1</td>\n",
       "      <td>1</td>\n",
       "      <td>0.746479</td>\n",
       "    </tr>\n",
       "    <tr>\n",
       "      <th>3</th>\n",
       "      <td>1</td>\n",
       "      <td>3</td>\n",
       "      <td>0.666667</td>\n",
       "    </tr>\n",
       "    <tr>\n",
       "      <th>5</th>\n",
       "      <td>2</td>\n",
       "      <td>1</td>\n",
       "      <td>0.581818</td>\n",
       "    </tr>\n",
       "    <tr>\n",
       "      <th>0</th>\n",
       "      <td>1</td>\n",
       "      <td>0</td>\n",
       "      <td>0.562044</td>\n",
       "    </tr>\n",
       "    <tr>\n",
       "      <th>6</th>\n",
       "      <td>2</td>\n",
       "      <td>2</td>\n",
       "      <td>0.500000</td>\n",
       "    </tr>\n",
       "    <tr>\n",
       "      <th>4</th>\n",
       "      <td>2</td>\n",
       "      <td>0</td>\n",
       "      <td>0.416667</td>\n",
       "    </tr>\n",
       "    <tr>\n",
       "      <th>10</th>\n",
       "      <td>3</td>\n",
       "      <td>2</td>\n",
       "      <td>0.333333</td>\n",
       "    </tr>\n",
       "    <tr>\n",
       "      <th>9</th>\n",
       "      <td>3</td>\n",
       "      <td>1</td>\n",
       "      <td>0.325301</td>\n",
       "    </tr>\n",
       "    <tr>\n",
       "      <th>8</th>\n",
       "      <td>3</td>\n",
       "      <td>0</td>\n",
       "      <td>0.236467</td>\n",
       "    </tr>\n",
       "    <tr>\n",
       "      <th>12</th>\n",
       "      <td>3</td>\n",
       "      <td>4</td>\n",
       "      <td>0.166667</td>\n",
       "    </tr>\n",
       "    <tr>\n",
       "      <th>11</th>\n",
       "      <td>3</td>\n",
       "      <td>3</td>\n",
       "      <td>0.083333</td>\n",
       "    </tr>\n",
       "    <tr>\n",
       "      <th>13</th>\n",
       "      <td>3</td>\n",
       "      <td>5</td>\n",
       "      <td>0.000000</td>\n",
       "    </tr>\n",
       "    <tr>\n",
       "      <th>14</th>\n",
       "      <td>3</td>\n",
       "      <td>8</td>\n",
       "      <td>0.000000</td>\n",
       "    </tr>\n",
       "  </tbody>\n",
       "</table>\n",
       "</div>"
      ],
      "text/plain": [
       "    Pclass  SibSp  Survived\n",
       "7        2      3  1.000000\n",
       "2        1      2  0.800000\n",
       "1        1      1  0.746479\n",
       "3        1      3  0.666667\n",
       "5        2      1  0.581818\n",
       "0        1      0  0.562044\n",
       "6        2      2  0.500000\n",
       "4        2      0  0.416667\n",
       "10       3      2  0.333333\n",
       "9        3      1  0.325301\n",
       "8        3      0  0.236467\n",
       "12       3      4  0.166667\n",
       "11       3      3  0.083333\n",
       "13       3      5  0.000000\n",
       "14       3      8  0.000000"
      ]
     },
     "execution_count": 25,
     "metadata": {},
     "output_type": "execute_result"
    }
   ],
   "source": [
    "(\n",
    "    train_df[['Pclass', 'SibSp', 'Survived']]\n",
    "    .groupby(['Pclass', 'SibSp'], as_index=False)\n",
    "    .mean()\n",
    "    .sort_values(by='Survived', ascending=False)\n",
    ")"
   ]
  },
  {
   "cell_type": "code",
   "execution_count": 26,
   "metadata": {},
   "outputs": [
    {
     "data": {
      "text/html": [
       "<div>\n",
       "<style scoped>\n",
       "    .dataframe tbody tr th:only-of-type {\n",
       "        vertical-align: middle;\n",
       "    }\n",
       "\n",
       "    .dataframe tbody tr th {\n",
       "        vertical-align: top;\n",
       "    }\n",
       "\n",
       "    .dataframe thead th {\n",
       "        text-align: right;\n",
       "    }\n",
       "</style>\n",
       "<table border=\"1\" class=\"dataframe\">\n",
       "  <thead>\n",
       "    <tr style=\"text-align: right;\">\n",
       "      <th></th>\n",
       "      <th>Pclass</th>\n",
       "      <th>Parch</th>\n",
       "      <th>Survived</th>\n",
       "    </tr>\n",
       "  </thead>\n",
       "  <tbody>\n",
       "    <tr>\n",
       "      <th>7</th>\n",
       "      <td>2</td>\n",
       "      <td>3</td>\n",
       "      <td>1.000000</td>\n",
       "    </tr>\n",
       "    <tr>\n",
       "      <th>6</th>\n",
       "      <td>2</td>\n",
       "      <td>2</td>\n",
       "      <td>0.812500</td>\n",
       "    </tr>\n",
       "    <tr>\n",
       "      <th>2</th>\n",
       "      <td>1</td>\n",
       "      <td>2</td>\n",
       "      <td>0.761905</td>\n",
       "    </tr>\n",
       "    <tr>\n",
       "      <th>5</th>\n",
       "      <td>2</td>\n",
       "      <td>1</td>\n",
       "      <td>0.750000</td>\n",
       "    </tr>\n",
       "    <tr>\n",
       "      <th>1</th>\n",
       "      <td>1</td>\n",
       "      <td>1</td>\n",
       "      <td>0.677419</td>\n",
       "    </tr>\n",
       "    <tr>\n",
       "      <th>0</th>\n",
       "      <td>1</td>\n",
       "      <td>0</td>\n",
       "      <td>0.607362</td>\n",
       "    </tr>\n",
       "    <tr>\n",
       "      <th>9</th>\n",
       "      <td>3</td>\n",
       "      <td>1</td>\n",
       "      <td>0.363636</td>\n",
       "    </tr>\n",
       "    <tr>\n",
       "      <th>4</th>\n",
       "      <td>2</td>\n",
       "      <td>0</td>\n",
       "      <td>0.358209</td>\n",
       "    </tr>\n",
       "    <tr>\n",
       "      <th>11</th>\n",
       "      <td>3</td>\n",
       "      <td>3</td>\n",
       "      <td>0.333333</td>\n",
       "    </tr>\n",
       "    <tr>\n",
       "      <th>10</th>\n",
       "      <td>3</td>\n",
       "      <td>2</td>\n",
       "      <td>0.255814</td>\n",
       "    </tr>\n",
       "    <tr>\n",
       "      <th>8</th>\n",
       "      <td>3</td>\n",
       "      <td>0</td>\n",
       "      <td>0.225722</td>\n",
       "    </tr>\n",
       "    <tr>\n",
       "      <th>13</th>\n",
       "      <td>3</td>\n",
       "      <td>5</td>\n",
       "      <td>0.200000</td>\n",
       "    </tr>\n",
       "    <tr>\n",
       "      <th>3</th>\n",
       "      <td>1</td>\n",
       "      <td>4</td>\n",
       "      <td>0.000000</td>\n",
       "    </tr>\n",
       "    <tr>\n",
       "      <th>12</th>\n",
       "      <td>3</td>\n",
       "      <td>4</td>\n",
       "      <td>0.000000</td>\n",
       "    </tr>\n",
       "    <tr>\n",
       "      <th>14</th>\n",
       "      <td>3</td>\n",
       "      <td>6</td>\n",
       "      <td>0.000000</td>\n",
       "    </tr>\n",
       "  </tbody>\n",
       "</table>\n",
       "</div>"
      ],
      "text/plain": [
       "    Pclass  Parch  Survived\n",
       "7        2      3  1.000000\n",
       "6        2      2  0.812500\n",
       "2        1      2  0.761905\n",
       "5        2      1  0.750000\n",
       "1        1      1  0.677419\n",
       "0        1      0  0.607362\n",
       "9        3      1  0.363636\n",
       "4        2      0  0.358209\n",
       "11       3      3  0.333333\n",
       "10       3      2  0.255814\n",
       "8        3      0  0.225722\n",
       "13       3      5  0.200000\n",
       "3        1      4  0.000000\n",
       "12       3      4  0.000000\n",
       "14       3      6  0.000000"
      ]
     },
     "execution_count": 26,
     "metadata": {},
     "output_type": "execute_result"
    }
   ],
   "source": [
    "(\n",
    "    train_df[['Pclass', 'Parch', 'Survived']]\n",
    "    .groupby(['Pclass', 'Parch'], as_index=False)\n",
    "    .mean()\n",
    "    .sort_values(by='Survived', ascending=False)\n",
    ")"
   ]
  },
  {
   "cell_type": "markdown",
   "metadata": {},
   "source": [
    "### Conclusions/decisions from above:\n",
    "\n",
    " - Still not clear whether being in 3rd class correlates with not surviving (already known) or if family size has any impact. This does motivate the need to engineer a new feature and check, though!"
   ]
  },
  {
   "cell_type": "markdown",
   "metadata": {},
   "source": [
    "## Analyze survival related to individual numerical features (with visualization)"
   ]
  },
  {
   "cell_type": "code",
   "execution_count": 27,
   "metadata": {},
   "outputs": [
    {
     "name": "stdout",
     "output_type": "stream",
     "text": [
      "Mean age relative to survival:\n",
      "   Survived        Age\n",
      "0         0  30.626179\n",
      "1         1  28.343690\n",
      "Median age relative to survival:\n",
      "   Survived   Age\n",
      "0         0  28.0\n",
      "1         1  28.0\n"
     ]
    },
    {
     "data": {
      "image/png": "[encoded data removed]",
      "text/plain": [
       "<Figure size 576x288 with 2 Axes>"
      ]
     },
     "metadata": {
      "needs_background": "light"
     },
     "output_type": "display_data"
    }
   ],
   "source": [
    "sns.FacetGrid(train_df, col='Survived', height=4, aspect=1).map(plt.hist, 'Age', bins=20)\n",
    "\n",
    "print(\"Mean age relative to survival:\")\n",
    "print(train_df[['Age', 'Survived']].groupby(['Survived'], as_index=False).mean())\n",
    "print(\"Median age relative to survival:\")\n",
    "print(train_df[['Age', 'Survived']].groupby(['Survived'], as_index=False).median())"
   ]
  },
  {
   "cell_type": "markdown",
   "metadata": {},
   "source": [
    "### conclusions/decisions from above:\n",
    "\n",
    " - Many infants survived\n",
    " - Mean age is slightly younger for survived than not survived\n",
    " - Median age is same for survived and did not survive\n",
    " - Histograms appear to show that more younger (between age ~16-32) passengers did not survive"
   ]
  },
  {
   "cell_type": "code",
   "execution_count": 28,
   "metadata": {},
   "outputs": [
    {
     "name": "stdout",
     "output_type": "stream",
     "text": [
      "Mean fare relative to survival:\n",
      "   Survived       Fare\n",
      "0         0  22.117887\n",
      "1         1  48.395408\n",
      "Median fare relative to survival:\n",
      "   Survived  Fare\n",
      "0         0  10.5\n",
      "1         1  26.0\n"
     ]
    },
    {
     "data": {
      "image/png": "[encoded data removed]",
      "text/plain": [
       "<Figure size 576x288 with 2 Axes>"
      ]
     },
     "metadata": {
      "needs_background": "light"
     },
     "output_type": "display_data"
    }
   ],
   "source": [
    "sns.FacetGrid(train_df, col='Survived', height=4, aspect=1).map(plt.hist, 'Fare', bins=20)\n",
    "\n",
    "print(\"Mean fare relative to survival:\")\n",
    "print(train_df[['Fare', 'Survived']].groupby(['Survived'], as_index=False).mean())\n",
    "print(\"Median fare relative to survival:\")\n",
    "print(train_df[['Fare', 'Survived']].groupby(['Survived'], as_index=False).median())"
   ]
  },
  {
   "cell_type": "markdown",
   "metadata": {},
   "source": [
    "### conclusions/decisions from above:\n",
    "\n",
    " - More higher fares tended to survive, more lower fares tended not to survive. This could be linked to fare<->class relationship"
   ]
  },
  {
   "cell_type": "markdown",
   "metadata": {},
   "source": [
    "## Analyze survival related to SibSp and Parch with viz (follow up from tables above)"
   ]
  },
  {
   "cell_type": "code",
   "execution_count": 29,
   "metadata": {},
   "outputs": [
    {
     "name": "stderr",
     "output_type": "stream",
     "text": [
      "/anaconda3/lib/python3.6/site-packages/seaborn/axisgrid.py:715: UserWarning: Using the pointplot function without specifying `order` is likely to produce an incorrect plot.\n",
      "  warnings.warn(warning)\n"
     ]
    },
    {
     "data": {
      "text/plain": [
       "<seaborn.axisgrid.FacetGrid at 0x1a28ea8c88>"
      ]
     },
     "execution_count": 29,
     "metadata": {},
     "output_type": "execute_result"
    },
    {
     "data": {
      "image/png": "[encoded data removed]",
      "text/plain": [
       "<Figure size 368x360 with 1 Axes>"
      ]
     },
     "metadata": {
      "needs_background": "light"
     },
     "output_type": "display_data"
    }
   ],
   "source": [
    "grid = sns.FacetGrid(train_df, height=5, aspect=1)\n",
    "grid.map(sns.pointplot, 'SibSp', 'Survived', ci=95)\n",
    "grid.add_legend()"
   ]
  },
  {
   "cell_type": "code",
   "execution_count": 30,
   "metadata": {},
   "outputs": [
    {
     "name": "stderr",
     "output_type": "stream",
     "text": [
      "/anaconda3/lib/python3.6/site-packages/seaborn/axisgrid.py:715: UserWarning: Using the pointplot function without specifying `order` is likely to produce an incorrect plot.\n",
      "  warnings.warn(warning)\n"
     ]
    },
    {
     "data": {
      "text/plain": [
       "<seaborn.axisgrid.FacetGrid at 0x1a28e75cc0>"
      ]
     },
     "execution_count": 30,
     "metadata": {},
     "output_type": "execute_result"
    },
    {
     "data": {
      "image/png": "[encoded data removed]",
      "text/plain": [
       "<Figure size 368x360 with 1 Axes>"
      ]
     },
     "metadata": {
      "needs_background": "light"
     },
     "output_type": "display_data"
    }
   ],
   "source": [
    "grid = sns.FacetGrid(train_df, height=5, aspect=1)\n",
    "grid.map(sns.pointplot, 'Parch', 'Survived', ci=95)\n",
    "grid.add_legend()"
   ]
  },
  {
   "cell_type": "markdown",
   "metadata": {},
   "source": [
    "### conclusions/decisions from above:\n",
    "\n",
    " - There does appear to be a trend of increasing survival with decreasing SibSp\n",
    " - No clear trend for Parch\n",
    " - Passengers travelling alone do not have maximum survival rate\n",
    " - Passengers travelling with relatively large number of SibSp or Parch seem to have low survival rate\n",
    " - Confirms that we should engineer a family size feature and test correlation with survival"
   ]
  },
  {
   "cell_type": "markdown",
   "metadata": {},
   "source": [
    "## Analyze survival as a function of combinations of (numerical, ordinal, categorical) features, with visualization"
   ]
  },
  {
   "cell_type": "markdown",
   "metadata": {},
   "source": [
    "### ordinal and numerical features"
   ]
  },
  {
   "cell_type": "code",
   "execution_count": 31,
   "metadata": {},
   "outputs": [
    {
     "data": {
      "image/png": "[encoded data removed]",
      "text/plain": [
       "<Figure size 440x648 with 6 Axes>"
      ]
     },
     "metadata": {
      "needs_background": "light"
     },
     "output_type": "display_data"
    }
   ],
   "source": [
    "sns.FacetGrid(\n",
    "    train_df, \n",
    "    col='Survived', \n",
    "    row='Pclass', \n",
    "    height=3, \n",
    "    aspect=1\n",
    ").map(\n",
    "    plt.hist, \n",
    "    'Age', \n",
    "    alpha=.5, \n",
    "    bins=20\n",
    ").add_legend();"
   ]
  },
  {
   "cell_type": "markdown",
   "metadata": {},
   "source": [
    "### conclusions/decisions from above:\n",
    "\n",
    " - Most 3rd class did not survive, most 1st class did survive. infants in all classes tended to survive"
   ]
  },
  {
   "cell_type": "code",
   "execution_count": 32,
   "metadata": {},
   "outputs": [
    {
     "data": {
      "image/png": "[encoded data removed]",
      "text/plain": [
       "<Figure size 440x648 with 6 Axes>"
      ]
     },
     "metadata": {
      "needs_background": "light"
     },
     "output_type": "display_data"
    }
   ],
   "source": [
    "sns.FacetGrid(\n",
    "    train_df, \n",
    "    col='Survived', \n",
    "    row='Pclass', \n",
    "    height=3, \n",
    "    aspect=1\n",
    ").map(\n",
    "    plt.hist, \n",
    "    'Fare', \n",
    "    alpha=.5, \n",
    "    bins=20\n",
    ").add_legend();"
   ]
  },
  {
   "cell_type": "code",
   "execution_count": 33,
   "metadata": {},
   "outputs": [
    {
     "data": {
      "text/plain": [
       "<seaborn.axisgrid.FacetGrid at 0x1a29851f28>"
      ]
     },
     "execution_count": 33,
     "metadata": {},
     "output_type": "execute_result"
    },
    {
     "data": {
      "image/png": "[encoded data removed]",
      "text/plain": [
       "<Figure size 440x648 with 6 Axes>"
      ]
     },
     "metadata": {
      "needs_background": "light"
     },
     "output_type": "display_data"
    }
   ],
   "source": [
    "grid = sns.FacetGrid(train_df, row='Embarked', col='Survived', height=3, aspect=1)\n",
    "grid.map(sns.barplot, 'Sex', 'Fare', alpha=.5, ci=95, order=['male', 'female'])\n",
    "grid.add_legend()"
   ]
  },
  {
   "cell_type": "markdown",
   "metadata": {},
   "source": [
    "### conclusions/decisions from above:\n",
    "\n",
    " - 1st class paid higher fares, lower classes paid less, makes sense --> higher fare correlates with higher survival\n",
    " - within first class, survivors paid even higher fares. This indicates subgroups of 1st class, possibly related to cabin\n",
    " - lowest fares (most from 3rd class) had highest mortality fraction"
   ]
  },
  {
   "cell_type": "markdown",
   "metadata": {},
   "source": [
    "### correlation between categorical features"
   ]
  },
  {
   "cell_type": "code",
   "execution_count": 34,
   "metadata": {},
   "outputs": [
    {
     "data": {
      "text/plain": [
       "Embarked  Pclass  Sex   \n",
       "C         1       female     43\n",
       "                  male       42\n",
       "          2       female      7\n",
       "                  male       10\n",
       "          3       female     23\n",
       "                  male       43\n",
       "Q         1       female      1\n",
       "                  male        1\n",
       "          2       female      2\n",
       "                  male        1\n",
       "          3       female     33\n",
       "                  male       39\n",
       "S         1       female     48\n",
       "                  male       79\n",
       "          2       female     67\n",
       "                  male       97\n",
       "          3       female     88\n",
       "                  male      265\n",
       "dtype: int64"
      ]
     },
     "execution_count": 34,
     "metadata": {},
     "output_type": "execute_result"
    },
    {
     "data": {
      "image/png": "[encoded data removed]",
      "text/plain": [
       "<Figure size 718.5x216 with 3 Axes>"
      ]
     },
     "metadata": {
      "needs_background": "light"
     },
     "output_type": "display_data"
    }
   ],
   "source": [
    "grid = sns.FacetGrid(train_df, col='Embarked', height=3, aspect=1)\n",
    "grid.map(sns.pointplot, \n",
    "         'Pclass', \n",
    "         'Survived', \n",
    "         'Sex', \n",
    "         order = [1,2,3], \n",
    "         hue_order=['male', 'female'], \n",
    "         palette='deep', \n",
    "         ci=95\n",
    "        )\n",
    "grid.add_legend()\n",
    "\n",
    "(\n",
    "    train_df[['Embarked', 'Pclass', 'Sex']]\n",
    "    .groupby(['Embarked', 'Pclass', 'Sex'], as_index=False)\n",
    "    .size()\n",
    ")"
   ]
  },
  {
   "cell_type": "code",
   "execution_count": 35,
   "metadata": {},
   "outputs": [
    {
     "data": {
      "text/plain": [
       "Embarked\n",
       "C    168\n",
       "Q     77\n",
       "S    644\n",
       "dtype: int64"
      ]
     },
     "execution_count": 35,
     "metadata": {},
     "output_type": "execute_result"
    }
   ],
   "source": [
    "(\n",
    "    train_df[['Embarked']]\n",
    "    .groupby(['Embarked'], as_index=False)\n",
    "    .size()\n",
    ")"
   ]
  },
  {
   "cell_type": "markdown",
   "metadata": {},
   "source": [
    "### conclusions/decisions from above:\n",
    "\n",
    " - females have a higher survival fraction (confrimed) across all classes and ports of embarkation\n",
    " - could drop embarkation. However, from tables above ^^^^ there might be a small correlation between `Embarked` and overall survival (i.e. higher survival from embark = C)\n",
    " - Most people embarked at `Embarked` = S"
   ]
  },
  {
   "cell_type": "markdown",
   "metadata": {},
   "source": [
    "## Summary of (training) data exploration (data quality, stats, viz, patterns)\n",
    "\n",
    "### Single feature relations to survival:\n",
    "\n",
    " - `Pclass`: Upper class passengers tended to survive (~63% survived), lower class passengers tended to not survive (~24% survived)\n",
    " - `Sex`: About 64% of passengers were male. Females tended to survive (74% of females and 19% of males survived)\n",
    " - `Age`: Infants tended to survive, passengers between age ~16-32 tended to not survive, especially in 3rd class\n",
    " - `SibSp` and `Parch`: Appears to be a negative correlation between SibSp and survival, and no clear trend exists between Parch and survival. There does seem to be a slight trend that larger SibSp or Parch correlates with not surviving. This could indicate that larger \"family size\" correlates with not surviving. It is unclear whether family size also correlates with class at this point. Travelling alone also seems to correlate with low survival.\n",
    " - `Ticket`: Did not analyze. These values are alpha-numeric strings. Not sure what they represent or how they correlate. There is some duplication/degeneracy in string values, though.\n",
    " - `Fare`: Larger fares tended to survive while lower fares tended not to survive. Fare could correlate with class.\n",
    " - `Cabin`: Did not analyze. Only not NaN for first class passengers. Not sure what it represents. There could be subgroups within 1st class with differing relations to survival where `cabin` might be useful.\n",
    " - `Embarked`: ~72% of passengered embarked from 'S' (Southampton). There is no definite/overly obvious relation between port of embarkation and survival. However, there does appear to be a slight trend/correlation that passengers embarking from 'S' (and 'Q') were less likely to survive (~33% and ~38% survival fraction, respectively) than those embarking from 'C' (~55% survival fraction).\n",
    "\n",
    "### Conclusions and decision made going further:\n",
    "\n",
    " - Drop `Cabin` and `Ticket` in modelling. Not sure how they relate. Could explore this further down the road\n",
    " - Create new feature \"family size\" that combines `SibSp` and `Parch`, and see its relation with survival. If it does correlate, then drop `SibSp` and/or `Parch`. \n",
    " - Could complete `Age` feature and fill missing values somehow.\n",
    " - Could complete `Embarked`, 2 missing values in training data.\n",
    " - Could complete `Cabin`, or feature engineer (sublcasses of first class that have better survival fractions). For now, drop since there are NaN values for classes 2 and 3, and see how things perform\n",
    " - 1 `Fare` value missing for test data. Could complete it using some modelling.\n",
    " - Could extract something useful out of `Name`, like the title of the person --> could correlate with survival (i.e. sex, status, etc). For now, drop this column, and see how things perform.\n",
    " - **DROP**: `Cabin`, `Ticket`, `Name`. _Will also need to drop `PassengerId` before modelling --> just assign a copy with this column for X values in modelling_."
   ]
  },
  {
   "cell_type": "markdown",
   "metadata": {},
   "source": [
    "***\n",
    "# 3. Data cleaning/Feature selection/Feature engineering"
   ]
  },
  {
   "cell_type": "markdown",
   "metadata": {},
   "source": [
    "## Test FamilySize feature"
   ]
  },
  {
   "cell_type": "code",
   "execution_count": 36,
   "metadata": {},
   "outputs": [],
   "source": [
    "test_feature_df = train_df.copy()\n",
    "\n",
    "test_feature_df['FamilySize'] = test_feature_df['SibSp'] + test_feature_df['Parch'] + 1"
   ]
  },
  {
   "cell_type": "code",
   "execution_count": 37,
   "metadata": {},
   "outputs": [
    {
     "name": "stdout",
     "output_type": "stream",
     "text": [
      "   FamilySize  Survived\n",
      "0           1  0.303538\n",
      "1           2  0.552795\n",
      "2           3  0.578431\n",
      "3           4  0.724138\n",
      "4           5  0.200000\n",
      "5           6  0.136364\n",
      "6           7  0.333333\n",
      "7           8  0.000000\n",
      "8          11  0.000000\n",
      "FamilySize\n",
      "1     537\n",
      "2     161\n",
      "3     102\n",
      "4      29\n",
      "5      15\n",
      "6      22\n",
      "7      12\n",
      "8       6\n",
      "11      7\n",
      "dtype: int64\n",
      "Pclass  FamilySize\n",
      "1       1             109\n",
      "        2              70\n",
      "        3              24\n",
      "        4               7\n",
      "        5               2\n",
      "        6               4\n",
      "2       1             104\n",
      "        2              34\n",
      "        3              31\n",
      "        4              13\n",
      "        5               1\n",
      "        6               1\n",
      "3       1             324\n",
      "        2              57\n",
      "        3              47\n",
      "        4               9\n",
      "        5              12\n",
      "        6              17\n",
      "        7              12\n",
      "        8               6\n",
      "        11              7\n",
      "dtype: int64\n"
     ]
    }
   ],
   "source": [
    "print(\n",
    "    test_feature_df[['FamilySize', 'Survived']]\n",
    "    .groupby(['FamilySize'], as_index=False)\n",
    "    .mean()\n",
    ")\n",
    "print(\n",
    "    test_feature_df[['FamilySize']]\n",
    "    .groupby(['FamilySize'], as_index=False)\n",
    "    .size()\n",
    ")\n",
    "print (\n",
    "    test_feature_df[['FamilySize', 'Pclass']]\n",
    "    .groupby(['Pclass', 'FamilySize'], as_index=False)\n",
    "    .size()\n",
    ")"
   ]
  },
  {
   "cell_type": "code",
   "execution_count": 38,
   "metadata": {},
   "outputs": [
    {
     "name": "stderr",
     "output_type": "stream",
     "text": [
      "/anaconda3/lib/python3.6/site-packages/seaborn/axisgrid.py:715: UserWarning: Using the pointplot function without specifying `order` is likely to produce an incorrect plot.\n",
      "  warnings.warn(warning)\n"
     ]
    },
    {
     "data": {
      "text/plain": [
       "<seaborn.axisgrid.FacetGrid at 0x1a28df4630>"
      ]
     },
     "execution_count": 38,
     "metadata": {},
     "output_type": "execute_result"
    },
    {
     "data": {
      "image/png": "[encoded data removed]",
      "text/plain": [
       "<Figure size 368x360 with 1 Axes>"
      ]
     },
     "metadata": {
      "needs_background": "light"
     },
     "output_type": "display_data"
    }
   ],
   "source": [
    "grid = sns.FacetGrid(test_feature_df, height=5, aspect=1)\n",
    "grid.map(sns.pointplot, 'FamilySize', 'Survived', ci=95)\n",
    "grid.add_legend()"
   ]
  },
  {
   "cell_type": "code",
   "execution_count": 39,
   "metadata": {},
   "outputs": [
    {
     "name": "stdout",
     "output_type": "stream",
     "text": [
      "    FamilySize     Sex  Survived\n",
      "0            1  female  0.785714\n",
      "1            1    male  0.155718\n",
      "2            2  female  0.816092\n",
      "3            2    male  0.243243\n",
      "4            3  female  0.775510\n",
      "5            3    male  0.396226\n",
      "6            4  female  0.842105\n",
      "7            4    male  0.500000\n",
      "8            5  female  0.250000\n",
      "9            5    male  0.000000\n",
      "10           6  female  0.375000\n",
      "11           6    male  0.000000\n",
      "12           7  female  0.375000\n",
      "13           7    male  0.250000\n",
      "14           8  female  0.000000\n",
      "15           8    male  0.000000\n",
      "16          11  female  0.000000\n",
      "17          11    male  0.000000\n",
      "FamilySize  Sex   \n",
      "1           female    126\n",
      "            male      411\n",
      "2           female     87\n",
      "            male       74\n",
      "3           female     49\n",
      "            male       53\n",
      "4           female     19\n",
      "            male       10\n",
      "5           female     12\n",
      "            male        3\n",
      "6           female      8\n",
      "            male       14\n",
      "7           female      8\n",
      "            male        4\n",
      "8           female      2\n",
      "            male        4\n",
      "11          female      3\n",
      "            male        4\n",
      "dtype: int64\n"
     ]
    }
   ],
   "source": [
    "print(\n",
    "    test_feature_df[['FamilySize', 'Sex', 'Survived']]\n",
    "    .groupby(['FamilySize', 'Sex'], as_index=False)\n",
    "    .mean()\n",
    ")\n",
    "print(\n",
    "    test_feature_df[['FamilySize', 'Sex', 'Survived']]\n",
    "    .groupby(['FamilySize', 'Sex'], as_index=False)\n",
    "    .size()\n",
    ")"
   ]
  },
  {
   "cell_type": "code",
   "execution_count": 40,
   "metadata": {},
   "outputs": [
    {
     "data": {
      "text/plain": [
       "<seaborn.axisgrid.FacetGrid at 0x1a28d2fcc0>"
      ]
     },
     "execution_count": 40,
     "metadata": {},
     "output_type": "execute_result"
    },
    {
     "data": {
      "image/png": "[encoded data removed]",
      "text/plain": [
       "<Figure size 430.5x360 with 1 Axes>"
      ]
     },
     "metadata": {
      "needs_background": "light"
     },
     "output_type": "display_data"
    }
   ],
   "source": [
    "grid = sns.FacetGrid(test_feature_df, height=5, aspect=1)\n",
    "grid.map(\n",
    "    sns.pointplot, \n",
    "    'FamilySize', 'Survived', 'Sex', \n",
    "    order = [1,2,3,4,5,6,7,8,9,10,11], \n",
    "    hue_order=['male', 'female'], \n",
    "    palette='deep', \n",
    "    ci=95\n",
    ")\n",
    "grid.add_legend()"
   ]
  },
  {
   "cell_type": "code",
   "execution_count": 41,
   "metadata": {},
   "outputs": [
    {
     "name": "stderr",
     "output_type": "stream",
     "text": [
      "/anaconda3/lib/python3.6/site-packages/seaborn/axisgrid.py:715: UserWarning: Using the pointplot function without specifying `order` is likely to produce an incorrect plot.\n",
      "  warnings.warn(warning)\n"
     ]
    },
    {
     "data": {
      "text/plain": [
       "<seaborn.axisgrid.FacetGrid at 0x1a28e0e5f8>"
      ]
     },
     "execution_count": 41,
     "metadata": {},
     "output_type": "execute_result"
    },
    {
     "data": {
      "image/png": "[encoded data removed]",
      "text/plain": [
       "<Figure size 1088x360 with 3 Axes>"
      ]
     },
     "metadata": {
      "needs_background": "light"
     },
     "output_type": "display_data"
    }
   ],
   "source": [
    "grid = sns.FacetGrid(test_feature_df, col='Pclass', height=5, aspect=1)\n",
    "grid.map(sns.pointplot, 'FamilySize', 'Survived', ci=95)\n",
    "grid.add_legend()"
   ]
  },
  {
   "cell_type": "markdown",
   "metadata": {},
   "source": [
    "### Conclusions/decisions from above:\n",
    "\n",
    " - It seems that there is an optimum, or close to, family size for survival\n",
    " - Small family sizes, in particular = 1, there is <50% fraction of survival. These are mostly male passengers. Most people in training data fall in this familysize (travelling alone)\n",
    " - Survival fraction increases up to familysize = 4, after which it drops off. This indicates that people travelling alone, or nearly so (males especially), and people with large family sizes were less likely to survive --> most people with large families are from 3rd class as well\n",
    " - **decision**: engineer `FamilySize` as a feature. Also, keep `SibSp` since there is a clear relation between it and survival. **Drop `Parch` since there is no clear trend between it and survival**.\n",
    " - Consider engineering an is alone feature since there seems to be a tight correlation between family size = 0 and not surviving\n",
    " "
   ]
  },
  {
   "cell_type": "markdown",
   "metadata": {},
   "source": [
    "## Test IsAlone feature"
   ]
  },
  {
   "cell_type": "code",
   "execution_count": 42,
   "metadata": {},
   "outputs": [],
   "source": [
    "test_feature_df = train_df.copy()\n",
    "\n",
    "test_feature_df['FamilySize'] = test_feature_df['SibSp'] + test_feature_df['Parch'] + 1\n",
    "\n",
    "test_feature_df['IsAlone'] = (test_feature_df['FamilySize'] == 1).astype(int)"
   ]
  },
  {
   "cell_type": "code",
   "execution_count": 43,
   "metadata": {},
   "outputs": [
    {
     "name": "stderr",
     "output_type": "stream",
     "text": [
      "/anaconda3/lib/python3.6/site-packages/seaborn/axisgrid.py:715: UserWarning: Using the pointplot function without specifying `order` is likely to produce an incorrect plot.\n",
      "  warnings.warn(warning)\n"
     ]
    },
    {
     "data": {
      "text/plain": [
       "<seaborn.axisgrid.FacetGrid at 0x1a2933bcf8>"
      ]
     },
     "execution_count": 43,
     "metadata": {},
     "output_type": "execute_result"
    },
    {
     "data": {
      "image/png": "[encoded data removed]",
      "text/plain": [
       "<Figure size 368x360 with 1 Axes>"
      ]
     },
     "metadata": {
      "needs_background": "light"
     },
     "output_type": "display_data"
    }
   ],
   "source": [
    "grid = sns.FacetGrid(test_feature_df, height=5, aspect=1)\n",
    "grid.map(sns.pointplot, 'IsAlone', 'Survived', ci=95)\n",
    "grid.add_legend()"
   ]
  },
  {
   "cell_type": "code",
   "execution_count": 44,
   "metadata": {},
   "outputs": [
    {
     "name": "stderr",
     "output_type": "stream",
     "text": [
      "/anaconda3/lib/python3.6/site-packages/seaborn/axisgrid.py:715: UserWarning: Using the pointplot function without specifying `order` is likely to produce an incorrect plot.\n",
      "  warnings.warn(warning)\n"
     ]
    },
    {
     "data": {
      "text/plain": [
       "<seaborn.axisgrid.FacetGrid at 0x1a29ed8a58>"
      ]
     },
     "execution_count": 44,
     "metadata": {},
     "output_type": "execute_result"
    },
    {
     "data": {
      "image/png": "[encoded data removed]",
      "text/plain": [
       "<Figure size 1088x360 with 3 Axes>"
      ]
     },
     "metadata": {
      "needs_background": "light"
     },
     "output_type": "display_data"
    }
   ],
   "source": [
    "grid = sns.FacetGrid(test_feature_df, col='Pclass', height=5, aspect=1)\n",
    "grid.map(sns.pointplot, 'IsAlone', 'Survived', ci=95)\n",
    "grid.add_legend()"
   ]
  },
  {
   "cell_type": "markdown",
   "metadata": {},
   "source": [
    "### Conclusions/decisions from above:\n",
    "\n",
    " - Being alone does seem to correlate with survival across all classes (3rd class just overall has a lower survival fraction)\n",
    " - Engineer `IsAlone` as a feature!"
   ]
  },
  {
   "cell_type": "markdown",
   "metadata": {},
   "source": [
    "## Test binning of age and fare data"
   ]
  },
  {
   "cell_type": "code",
   "execution_count": 45,
   "metadata": {},
   "outputs": [
    {
     "data": {
      "text/html": [
       "<div>\n",
       "<style scoped>\n",
       "    .dataframe tbody tr th:only-of-type {\n",
       "        vertical-align: middle;\n",
       "    }\n",
       "\n",
       "    .dataframe tbody tr th {\n",
       "        vertical-align: top;\n",
       "    }\n",
       "\n",
       "    .dataframe thead th {\n",
       "        text-align: right;\n",
       "    }\n",
       "</style>\n",
       "<table border=\"1\" class=\"dataframe\">\n",
       "  <thead>\n",
       "    <tr style=\"text-align: right;\">\n",
       "      <th></th>\n",
       "      <th>age_cat</th>\n",
       "      <th>Survived</th>\n",
       "    </tr>\n",
       "  </thead>\n",
       "  <tbody>\n",
       "    <tr>\n",
       "      <th>0</th>\n",
       "      <td>(0.34, 8.378]</td>\n",
       "      <td>0.666667</td>\n",
       "    </tr>\n",
       "    <tr>\n",
       "      <th>1</th>\n",
       "      <td>(8.378, 16.336]</td>\n",
       "      <td>0.413043</td>\n",
       "    </tr>\n",
       "    <tr>\n",
       "      <th>2</th>\n",
       "      <td>(16.336, 24.294]</td>\n",
       "      <td>0.355932</td>\n",
       "    </tr>\n",
       "    <tr>\n",
       "      <th>3</th>\n",
       "      <td>(24.294, 32.252]</td>\n",
       "      <td>0.384615</td>\n",
       "    </tr>\n",
       "    <tr>\n",
       "      <th>4</th>\n",
       "      <td>(32.252, 40.21]</td>\n",
       "      <td>0.440678</td>\n",
       "    </tr>\n",
       "    <tr>\n",
       "      <th>5</th>\n",
       "      <td>(40.21, 48.168]</td>\n",
       "      <td>0.342857</td>\n",
       "    </tr>\n",
       "    <tr>\n",
       "      <th>6</th>\n",
       "      <td>(48.168, 56.126]</td>\n",
       "      <td>0.466667</td>\n",
       "    </tr>\n",
       "    <tr>\n",
       "      <th>7</th>\n",
       "      <td>(56.126, 64.084]</td>\n",
       "      <td>0.375000</td>\n",
       "    </tr>\n",
       "    <tr>\n",
       "      <th>8</th>\n",
       "      <td>(64.084, 72.042]</td>\n",
       "      <td>0.000000</td>\n",
       "    </tr>\n",
       "    <tr>\n",
       "      <th>9</th>\n",
       "      <td>(72.042, 80.0]</td>\n",
       "      <td>0.500000</td>\n",
       "    </tr>\n",
       "  </tbody>\n",
       "</table>\n",
       "</div>"
      ],
      "text/plain": [
       "            age_cat  Survived\n",
       "0     (0.34, 8.378]  0.666667\n",
       "1   (8.378, 16.336]  0.413043\n",
       "2  (16.336, 24.294]  0.355932\n",
       "3  (24.294, 32.252]  0.384615\n",
       "4   (32.252, 40.21]  0.440678\n",
       "5   (40.21, 48.168]  0.342857\n",
       "6  (48.168, 56.126]  0.466667\n",
       "7  (56.126, 64.084]  0.375000\n",
       "8  (64.084, 72.042]  0.000000\n",
       "9    (72.042, 80.0]  0.500000"
      ]
     },
     "execution_count": 45,
     "metadata": {},
     "output_type": "execute_result"
    }
   ],
   "source": [
    "test_feature_df = train_df.copy()\n",
    "num_bins = 10\n",
    "test_feature_df['age_cat'] = pd.cut(test_feature_df['Age'], \n",
    "                                    num_bins, \n",
    "                                    #labels=[i for i in range(0,num_bins)]\n",
    "                                   )\n",
    "\n",
    "#test_feature_df['age_cat'] = (test_feature_df['age_cat']).astype(int)\n",
    "\n",
    "(\n",
    "    test_feature_df[['age_cat', 'Survived']]\n",
    "    .groupby(['age_cat'], as_index=False)\n",
    "    .mean()\n",
    "    .sort_values(by='age_cat', ascending=True)\n",
    ")"
   ]
  },
  {
   "cell_type": "code",
   "execution_count": 46,
   "metadata": {},
   "outputs": [
    {
     "data": {
      "text/plain": [
       "age_cat\n",
       "(0.34, 8.378]        54\n",
       "(8.378, 16.336]      46\n",
       "(16.336, 24.294]    177\n",
       "(24.294, 32.252]    169\n",
       "(32.252, 40.21]     118\n",
       "(40.21, 48.168]      70\n",
       "(48.168, 56.126]     45\n",
       "(56.126, 64.084]     24\n",
       "(64.084, 72.042]      9\n",
       "(72.042, 80.0]        2\n",
       "dtype: int64"
      ]
     },
     "execution_count": 46,
     "metadata": {},
     "output_type": "execute_result"
    }
   ],
   "source": [
    "(\n",
    "    test_feature_df[['age_cat', 'Survived']]\n",
    "    .groupby(['age_cat'], as_index=False)\n",
    "    .size()\n",
    ")"
   ]
  },
  {
   "cell_type": "code",
   "execution_count": 47,
   "metadata": {},
   "outputs": [
    {
     "data": {
      "text/html": [
       "<div>\n",
       "<style scoped>\n",
       "    .dataframe tbody tr th:only-of-type {\n",
       "        vertical-align: middle;\n",
       "    }\n",
       "\n",
       "    .dataframe tbody tr th {\n",
       "        vertical-align: top;\n",
       "    }\n",
       "\n",
       "    .dataframe thead th {\n",
       "        text-align: right;\n",
       "    }\n",
       "</style>\n",
       "<table border=\"1\" class=\"dataframe\">\n",
       "  <thead>\n",
       "    <tr style=\"text-align: right;\">\n",
       "      <th></th>\n",
       "      <th>fare_cat</th>\n",
       "      <th>Survived</th>\n",
       "    </tr>\n",
       "  </thead>\n",
       "  <tbody>\n",
       "    <tr>\n",
       "      <th>0</th>\n",
       "      <td>(-0.512, 51.233]</td>\n",
       "      <td>0.318306</td>\n",
       "    </tr>\n",
       "    <tr>\n",
       "      <th>1</th>\n",
       "      <td>(51.233, 102.466]</td>\n",
       "      <td>0.660377</td>\n",
       "    </tr>\n",
       "    <tr>\n",
       "      <th>2</th>\n",
       "      <td>(102.466, 153.699]</td>\n",
       "      <td>0.741935</td>\n",
       "    </tr>\n",
       "    <tr>\n",
       "      <th>3</th>\n",
       "      <td>(153.699, 204.932]</td>\n",
       "      <td>1.000000</td>\n",
       "    </tr>\n",
       "    <tr>\n",
       "      <th>4</th>\n",
       "      <td>(204.932, 256.165]</td>\n",
       "      <td>0.636364</td>\n",
       "    </tr>\n",
       "    <tr>\n",
       "      <th>5</th>\n",
       "      <td>(256.165, 307.398]</td>\n",
       "      <td>0.666667</td>\n",
       "    </tr>\n",
       "    <tr>\n",
       "      <th>6</th>\n",
       "      <td>(307.398, 358.63]</td>\n",
       "      <td>NaN</td>\n",
       "    </tr>\n",
       "    <tr>\n",
       "      <th>7</th>\n",
       "      <td>(358.63, 409.863]</td>\n",
       "      <td>NaN</td>\n",
       "    </tr>\n",
       "    <tr>\n",
       "      <th>8</th>\n",
       "      <td>(409.863, 461.096]</td>\n",
       "      <td>NaN</td>\n",
       "    </tr>\n",
       "    <tr>\n",
       "      <th>9</th>\n",
       "      <td>(461.096, 512.329]</td>\n",
       "      <td>1.000000</td>\n",
       "    </tr>\n",
       "  </tbody>\n",
       "</table>\n",
       "</div>"
      ],
      "text/plain": [
       "             fare_cat  Survived\n",
       "0    (-0.512, 51.233]  0.318306\n",
       "1   (51.233, 102.466]  0.660377\n",
       "2  (102.466, 153.699]  0.741935\n",
       "3  (153.699, 204.932]  1.000000\n",
       "4  (204.932, 256.165]  0.636364\n",
       "5  (256.165, 307.398]  0.666667\n",
       "6   (307.398, 358.63]       NaN\n",
       "7   (358.63, 409.863]       NaN\n",
       "8  (409.863, 461.096]       NaN\n",
       "9  (461.096, 512.329]  1.000000"
      ]
     },
     "execution_count": 47,
     "metadata": {},
     "output_type": "execute_result"
    }
   ],
   "source": [
    "test_feature_df = train_df.copy()\n",
    "num_bins = 10\n",
    "test_feature_df['fare_cat'] = pd.cut(test_feature_df['Fare'], \n",
    "                                     num_bins, \n",
    "                                     #labels=[i for i in range(0,num_bins)]\n",
    "                                    )\n",
    "\n",
    "#test_feature_df['fare_cat'] = (test_feature_df['fare_cat']).astype(int)\n",
    "\n",
    "(\n",
    "    test_feature_df[['fare_cat', 'Survived']]\n",
    "    .groupby(['fare_cat'], as_index=False)\n",
    "    .mean()\n",
    "    .sort_values(by='fare_cat', ascending=True)\n",
    ")"
   ]
  },
  {
   "cell_type": "code",
   "execution_count": 48,
   "metadata": {},
   "outputs": [
    {
     "data": {
      "text/plain": [
       "fare_cat\n",
       "(-0.512, 51.233]      732\n",
       "(51.233, 102.466]     106\n",
       "(102.466, 153.699]     31\n",
       "(153.699, 204.932]      2\n",
       "(204.932, 256.165]     11\n",
       "(256.165, 307.398]      6\n",
       "(307.398, 358.63]       0\n",
       "(358.63, 409.863]       0\n",
       "(409.863, 461.096]      0\n",
       "(461.096, 512.329]      3\n",
       "dtype: int64"
      ]
     },
     "execution_count": 48,
     "metadata": {},
     "output_type": "execute_result"
    }
   ],
   "source": [
    "(\n",
    "    test_feature_df[['fare_cat', 'Survived']]\n",
    "    .groupby(['fare_cat'], as_index=False)\n",
    "    .size()\n",
    ")"
   ]
  },
  {
   "cell_type": "markdown",
   "metadata": {},
   "source": [
    "### Conclusions/decisions from above:\n",
    "\n",
    " - Bin ages and fares according to above\n",
    " - Should really put a ceiling on both, but for now, just do equal bins for the range of values in each feature"
   ]
  },
  {
   "cell_type": "markdown",
   "metadata": {},
   "source": [
    "## Create and run data transformation pipeline\n",
    "\n",
    " - Use statistics of training set to fill values in training and test sets --> **I am assuming** the two sets come from the same distribution\n",
    " - Use same number of bins for training and test data when discretizing continuous variable features into bins --> **I am assuming** the two sets come from the same distribution\n",
    " - Use median age to fill missing values, for now\n",
    " - Use `Embarked` = S for filling missing values since it is the port with the most embarkations\n",
    " - Use median Fare to fill missing values, for now\n",
    " - Discretize and bin `Age` values into equal sized bins, for now\n",
    " - Discretize and bin `Fare` values into equal sized bins, for now\n",
    " - Categorize `Pclass` into binary features\n",
    " - Categorize `Embarked` into binary features\n",
    " - Categorize `Sex` into a binary feature\n",
    " - Drop `Name`, `Parch`, `Ticket`, and `Cabin` as discussed above (i.e. don't consider their value at all)"
   ]
  },
  {
   "cell_type": "code",
   "execution_count": 121,
   "metadata": {},
   "outputs": [],
   "source": [
    "MEDIAN_AGE = None\n",
    "MEDIAN_FARE = None\n",
    "MEDIAN_EMBARKED = 'S'"
   ]
  },
  {
   "cell_type": "code",
   "execution_count": 122,
   "metadata": {
    "scrolled": false
   },
   "outputs": [],
   "source": [
    "\n",
    "def create_family_size_feature(df):\n",
    "    df['num_family_travelling_with'] = df['SibSp'] + df['Parch'] + 1\n",
    "    return df\n",
    "\n",
    "def create_is_alone_feature(df):\n",
    "    df['is_alone'] = (df['num_family_travelling_with'] == 1).astype(int)\n",
    "    return df\n",
    "\n",
    "def discretize_continuous_feature(df, new_column, column_to_bin, num_bins):\n",
    "    df[new_column] = pd.cut(df[column_to_bin],\n",
    "                            num_bins,\n",
    "                            labels=[i for i in range(0,num_bins)]\n",
    "                           )\n",
    "    df[new_column] = (df[new_column]).astype(int)\n",
    "    return df\n",
    "    \n",
    "def categorize_feature(df, new_column, old_column, old_column_value):\n",
    "    def get_new_column_value(row, old_column, old_column_value):\n",
    "        if row[old_column] == old_column_value:\n",
    "            new_value = 1\n",
    "        else:\n",
    "            new_value = 0\n",
    "        return new_value\n",
    "    \n",
    "    df[new_column] = df.apply(\n",
    "        lambda row: get_new_column_value(row, old_column, old_column_value),\n",
    "        axis=1\n",
    "    )\n",
    "    return df\n",
    "\n",
    "\n",
    "# data transform pipeline\n",
    "def transform_pipeline(df, data_set_type):\n",
    "    # global is not great to use. Need to refactor pipeline into a class :( \n",
    "    global MEDIAN_AGE, MEDIAN_FARE, MEDIAN_EMBARKED\n",
    "    \n",
    "    # engineer family size feature\n",
    "    df = create_family_size_feature(df)\n",
    "    \n",
    "    # engineer IsAlone feature\n",
    "    df = create_is_alone_feature(df)\n",
    "    \n",
    "    # calculate median values of missing data columns if data_set_type = 'train'\n",
    "    if data_set_type == 'train':\n",
    "        MEDIAN_AGE = df['Age'].median()\n",
    "        print('Median age of training data is {}'.format(MEDIAN_AGE))\n",
    "        MEDIAN_FARE = df['Fare'].median()\n",
    "        print('Median Fare of training data is {}'.format(MEDIAN_FARE))\n",
    "        print('Median embarked is {}'.format(MEDIAN_EMBARKED))\n",
    "        \n",
    "    # Fill missing values with medians\n",
    "    fill_na_dict = {\n",
    "        'Age': MEDIAN_AGE,\n",
    "        'Fare': MEDIAN_FARE,\n",
    "        'Embarked': MEDIAN_EMBARKED\n",
    "    }\n",
    "    df = df.fillna(fill_na_dict)\n",
    "    \n",
    "    # discretize certian continuous variable features\n",
    "    num_bins = 10\n",
    "    # Age\n",
    "    df = discretize_continuous_feature(df, 'age_cat', 'Age', num_bins)\n",
    "    # Fare\n",
    "    df = discretize_continuous_feature(df, 'fare_cat', 'Fare', num_bins)\n",
    "    \n",
    "    # Engineer categorical classification features into binary features\n",
    "    new_column_list = ['is_first_class', 'is_second_class', 'is_third_class',\n",
    "                       'embarked_S', 'embarked_C', 'embarked_Q',\n",
    "                       'is_male']\n",
    "    old_column_list = ['Pclass', 'Pclass', 'Pclass',\n",
    "                       'Embarked', 'Embarked', 'Embarked',\n",
    "                       'Sex']\n",
    "    old_column_value_list = [1, 2, 3,\n",
    "                             'S', 'C', 'Q',\n",
    "                             'male']\n",
    "    for new_column, old_column, old_column_value in zip(new_column_list,\n",
    "                                                       old_column_list,\n",
    "                                                       old_column_value_list):\n",
    "        df = categorize_feature(df, new_column, old_column, old_column_value)\n",
    "    \n",
    "    \n",
    "    \n",
    "    # drop columns\n",
    "    features_to_drop = ['Name', \n",
    "                        'Parch', \n",
    "                        'Ticket', \n",
    "                        'Cabin', \n",
    "                        'Pclass', \n",
    "                        'Embarked', \n",
    "                        'Sex', \n",
    "                        'Age', \n",
    "                        'Fare',\n",
    "                        'PassengerId']\n",
    "    df.drop(features_to_drop, axis=1, inplace=True)\n",
    "    \n",
    "    # rename columns\n",
    "    df = df.rename(\n",
    "        columns = {\n",
    "            'SibSp': 'num_siblings_spouse',\n",
    "        }\n",
    "    )\n",
    "    \n",
    "    # assert no null values in dataframe\n",
    "    assert pd.notnull(df).all().all()\n",
    "    \n",
    "    return df.values"
   ]
  },
  {
   "cell_type": "code",
   "execution_count": 123,
   "metadata": {},
   "outputs": [
    {
     "name": "stdout",
     "output_type": "stream",
     "text": [
      "Median age of training data is 28.0\n",
      "Median Fare of training data is 14.4542\n",
      "Median embarked is S\n"
     ]
    }
   ],
   "source": [
    "train_labels = train_df['Survived'].copy()\n",
    "train_prepared = transform_pipeline(train_df.drop(['Survived'], axis=1).copy(), 'train')"
   ]
  },
  {
   "cell_type": "code",
   "execution_count": 126,
   "metadata": {},
   "outputs": [
    {
     "data": {
      "text/plain": [
       "array([[1, 2, 0, ..., 0, 0, 1],\n",
       "       [1, 2, 0, ..., 1, 0, 0],\n",
       "       [0, 1, 1, ..., 0, 0, 0],\n",
       "       ...,\n",
       "       [1, 4, 0, ..., 0, 0, 0],\n",
       "       [0, 1, 1, ..., 1, 0, 1],\n",
       "       [0, 1, 1, ..., 0, 1, 1]])"
      ]
     },
     "execution_count": 126,
     "metadata": {},
     "output_type": "execute_result"
    }
   ],
   "source": [
    "train_prepared"
   ]
  },
  {
   "cell_type": "code",
   "execution_count": 127,
   "metadata": {},
   "outputs": [
    {
     "data": {
      "text/plain": [
       "(891, 12)"
      ]
     },
     "execution_count": 127,
     "metadata": {},
     "output_type": "execute_result"
    }
   ],
   "source": [
    "train_prepared.shape"
   ]
  },
  {
   "cell_type": "code",
   "execution_count": 128,
   "metadata": {},
   "outputs": [
    {
     "data": {
      "text/plain": [
       "(891,)"
      ]
     },
     "execution_count": 128,
     "metadata": {},
     "output_type": "execute_result"
    }
   ],
   "source": [
    "train_labels.shape"
   ]
  },
  {
   "cell_type": "markdown",
   "metadata": {},
   "source": [
    "***\n",
    "# 4. Select, train, and fine-tune model"
   ]
  },
  {
   "cell_type": "code",
   "execution_count": 129,
   "metadata": {},
   "outputs": [],
   "source": [
    "# import sklearn stuff\n",
    "from sklearn.linear_model import LogisticRegression\n",
    "from sklearn.model_selection import RandomizedSearchCV\n",
    "from scipy.stats import uniform\n",
    "import numpy as np"
   ]
  },
  {
   "cell_type": "code",
   "execution_count": 139,
   "metadata": {},
   "outputs": [],
   "source": [
    "log_reg = LogisticRegression()\n",
    "\n",
    "hyper_param_distribs = {\n",
    "    'penalty': ['l1', 'l2'],\n",
    "    'dual': [False],\n",
    "    'tol': [1e-4],\n",
    "    'C': uniform(loc=0, scale=4),\n",
    "    'fit_intercept': [True, False],\n",
    "    'intercept_scaling': [1.0],\n",
    "    'class_weight': [None],\n",
    "    'random_state': [None],\n",
    "    'solver': ['liblinear'],\n",
    "    'max_iter': [100],\n",
    "    'multi_class': ['ovr'],\n",
    "    'verbose': [0],\n",
    "    'warm_start': [False],\n",
    "    'n_jobs': [None]\n",
    "}\n",
    "\n",
    "rnd_search = RandomizedSearchCV(\n",
    "    log_reg, \n",
    "    hyper_param_distribs, \n",
    "    n_iter=1000, \n",
    "    scoring='accuracy', \n",
    "    cv=10, \n",
    "    verbose=1, \n",
    "    random_state=78, \n",
    "    n_jobs=1, \n",
    "    error_score=np.nan \n",
    ")"
   ]
  },
  {
   "cell_type": "code",
   "execution_count": 140,
   "metadata": {},
   "outputs": [
    {
     "name": "stdout",
     "output_type": "stream",
     "text": [
      "Fitting 10 folds for each of 1000 candidates, totalling 10000 fits\n"
     ]
    },
    {
     "name": "stderr",
     "output_type": "stream",
     "text": [
      "[Parallel(n_jobs=1)]: Using backend SequentialBackend with 1 concurrent workers.\n",
      "[Parallel(n_jobs=1)]: Done 10000 out of 10000 | elapsed:   41.8s finished\n",
      "/anaconda3/lib/python3.6/site-packages/sklearn/model_selection/_search.py:841: DeprecationWarning: The default of the `iid` parameter will change from True to False in version 0.22 and will be removed in 0.24. This will change numeric results when test-set sizes are unequal.\n",
      "  DeprecationWarning)\n"
     ]
    },
    {
     "data": {
      "text/plain": [
       "RandomizedSearchCV(cv=10, error_score=nan,\n",
       "          estimator=LogisticRegression(C=1.0, class_weight=None, dual=False, fit_intercept=True,\n",
       "          intercept_scaling=1, max_iter=100, multi_class='warn',\n",
       "          n_jobs=None, penalty='l2', random_state=None, solver='warn',\n",
       "          tol=0.0001, verbose=0, warm_start=False),\n",
       "          fit_params=None, iid='warn', n_iter=1000, n_jobs=1,\n",
       "          param_distributions={'penalty': ['l1', 'l2'], 'dual': [False], 'tol': [0.0001], 'C': <scipy.stats._distn_infrastructure.rv_frozen object at 0x1a2aac8860>, 'fit_intercept': [True, False], 'intercept_scaling': [1.0], 'class_weight': [None], 'random_state': [None], 'solver': ['liblinear'], 'max_iter': [100], 'multi_class': ['ovr'], 'verbose': [0], 'warm_start': [False], 'n_jobs': [None]},\n",
       "          pre_dispatch='2*n_jobs', random_state=78, refit=True,\n",
       "          return_train_score='warn', scoring='accuracy', verbose=1)"
      ]
     },
     "execution_count": 140,
     "metadata": {},
     "output_type": "execute_result"
    }
   ],
   "source": [
    "rnd_search.fit(train_prepared, train_labels)"
   ]
  },
  {
   "cell_type": "code",
   "execution_count": 141,
   "metadata": {},
   "outputs": [
    {
     "data": {
      "text/plain": [
       "{'C': 0.9043477454988103,\n",
       " 'class_weight': None,\n",
       " 'dual': False,\n",
       " 'fit_intercept': False,\n",
       " 'intercept_scaling': 1.0,\n",
       " 'max_iter': 100,\n",
       " 'multi_class': 'ovr',\n",
       " 'n_jobs': None,\n",
       " 'penalty': 'l2',\n",
       " 'random_state': None,\n",
       " 'solver': 'liblinear',\n",
       " 'tol': 0.0001,\n",
       " 'verbose': 0,\n",
       " 'warm_start': False}"
      ]
     },
     "execution_count": 141,
     "metadata": {},
     "output_type": "execute_result"
    }
   ],
   "source": [
    "rnd_search.best_params_"
   ]
  },
  {
   "cell_type": "code",
   "execution_count": 142,
   "metadata": {},
   "outputs": [
    {
     "data": {
      "text/plain": [
       "LogisticRegression(C=0.9043477454988103, class_weight=None, dual=False,\n",
       "          fit_intercept=False, intercept_scaling=1.0, max_iter=100,\n",
       "          multi_class='ovr', n_jobs=None, penalty='l2', random_state=None,\n",
       "          solver='liblinear', tol=0.0001, verbose=0, warm_start=False)"
      ]
     },
     "execution_count": 142,
     "metadata": {},
     "output_type": "execute_result"
    }
   ],
   "source": [
    "rnd_search.best_estimator_"
   ]
  },
  {
   "cell_type": "code",
   "execution_count": 143,
   "metadata": {},
   "outputs": [
    {
     "data": {
      "text/plain": [
       "0.797979797979798"
      ]
     },
     "execution_count": 143,
     "metadata": {},
     "output_type": "execute_result"
    }
   ],
   "source": [
    "rnd_search.best_score_"
   ]
  },
  {
   "cell_type": "code",
   "execution_count": 151,
   "metadata": {},
   "outputs": [],
   "source": [
    "#cv_results = rnd_search.cv_results_\n",
    "#for mean_score, params in zip(cv_results['mean_test_score'], cv_results['params']):\n",
    "#    print(mean_score, params)"
   ]
  },
  {
   "cell_type": "markdown",
   "metadata": {},
   "source": [
    "***\n",
    "# 5. Evaluate model on test set"
   ]
  },
  {
   "cell_type": "code",
   "execution_count": 146,
   "metadata": {},
   "outputs": [
    {
     "data": {
      "text/plain": [
       "(418, 12)"
      ]
     },
     "execution_count": 146,
     "metadata": {},
     "output_type": "execute_result"
    }
   ],
   "source": [
    "# define best model\n",
    "final_model = rnd_search.best_estimator_\n",
    "# prepare (transform) test data\n",
    "test_IDs = test_df['PassengerId'].copy()\n",
    "test_prepared = transform_pipeline(test_df.copy(), 'test')\n",
    "\n",
    "test_prepared.shape"
   ]
  },
  {
   "cell_type": "code",
   "execution_count": 148,
   "metadata": {},
   "outputs": [],
   "source": [
    "# make predictions for test data\n",
    "test_predictions = final_model.predict(test_prepared)"
   ]
  },
  {
   "cell_type": "code",
   "execution_count": 150,
   "metadata": {},
   "outputs": [],
   "source": [
    "# print submission\n",
    "submission = pd.DataFrame({\n",
    "    'PassengerId': test_IDs,\n",
    "    'Survived': test_predictions\n",
    "})\n",
    "submission.to_csv('submission_logistic_regression.csv', index=False)\n"
   ]
  },
  {
   "cell_type": "code",
   "execution_count": null,
   "metadata": {},
   "outputs": [],
   "source": []
  }
 ],
 "metadata": {
  "kernelspec": {
   "display_name": "Python 3",
   "language": "python",
   "name": "python3"
  },
  "language_info": {
   "codemirror_mode": {
    "name": "ipython",
    "version": 3
   },
   "file_extension": ".py",
   "mimetype": "text/x-python",
   "name": "python",
   "nbconvert_exporter": "python",
   "pygments_lexer": "ipython3",
   "version": "3.7.3"
  }
 },
 "nbformat": 4,
 "nbformat_minor": 2
}
